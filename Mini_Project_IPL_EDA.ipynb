{
  "nbformat": 4,
  "nbformat_minor": 0,
  "metadata": {
    "colab": {
      "provenance": []
    },
    "kernelspec": {
      "name": "python3",
      "display_name": "Python 3"
    },
    "language_info": {
      "name": "python"
    }
  },
  "cells": [
    {
      "cell_type": "code",
      "execution_count": null,
      "metadata": {
        "id": "AtVoY_ARX5g0"
      },
      "outputs": [],
      "source": [
        "# Importing important libraries\n",
        "import numpy as np\n",
        "import pandas as pd\n",
        "import matplotlib.pyplot as plt\n",
        "import seaborn as sns\n",
        "import warnings\n",
        "warnings.filterwarnings('ignore')"
      ]
    },
    {
      "cell_type": "code",
      "source": [
        "# Setting the parameters for the plot\n",
        "sns.set_style('whitegrid')\n",
        "plt.rcParams['figure.figsize'] = (5, 3)"
      ],
      "metadata": {
        "id": "Gbvq75caX-Kf"
      },
      "execution_count": null,
      "outputs": []
    },
    {
      "cell_type": "markdown",
      "source": [
        "* sns.set_style('whitegrid') → Sets the Seaborn plot style to have a white background with gridlines.\n",
        "\n",
        "* plt.rcParams['figure.figsize'] = (5, 3) → Sets the default size of all matplotlib figures to 5 inches wide by 3 inches tall."
      ],
      "metadata": {
        "id": "1udsJbdZrw6c"
      }
    },
    {
      "cell_type": "code",
      "source": [
        "# Loading the datasets\n",
        "matches_df = pd.read_csv('/content/IPL Matches 2008-2020.csv')\n",
        "balls_df = pd.read_csv('/content/IPL Ball-by-Ball 2008-2020.csv')"
      ],
      "metadata": {
        "id": "Bito8P-aX-M0"
      },
      "execution_count": null,
      "outputs": []
    },
    {
      "cell_type": "code",
      "source": [
        "#getting the info of matches\n",
        "matches_df.info()"
      ],
      "metadata": {
        "colab": {
          "base_uri": "https://localhost:8080/"
        },
        "id": "-pm5d6VYr-bQ",
        "outputId": "d0c5245c-829e-4f80-c9bb-e104801bb971"
      },
      "execution_count": null,
      "outputs": [
        {
          "output_type": "stream",
          "name": "stdout",
          "text": [
            "<class 'pandas.core.frame.DataFrame'>\n",
            "RangeIndex: 816 entries, 0 to 815\n",
            "Data columns (total 19 columns):\n",
            " #   Column              Non-Null Count  Dtype         \n",
            "---  ------              --------------  -----         \n",
            " 0   id                  816 non-null    int64         \n",
            " 1   city                803 non-null    object        \n",
            " 2   date                816 non-null    datetime64[ns]\n",
            " 3   player_of_match     812 non-null    object        \n",
            " 4   venue               816 non-null    object        \n",
            " 5   neutral_venue       816 non-null    int64         \n",
            " 6   team1               816 non-null    object        \n",
            " 7   team2               816 non-null    object        \n",
            " 8   toss_winner         816 non-null    object        \n",
            " 9   toss_decision       816 non-null    object        \n",
            " 10  winner              812 non-null    object        \n",
            " 11  result              812 non-null    object        \n",
            " 12  result_margin       799 non-null    float64       \n",
            " 13  eliminator          812 non-null    object        \n",
            " 14  method              19 non-null     object        \n",
            " 15  umpire1             816 non-null    object        \n",
            " 16  umpire2             816 non-null    object        \n",
            " 17  season              816 non-null    int32         \n",
            " 18  toss_win_match_win  816 non-null    int64         \n",
            "dtypes: datetime64[ns](1), float64(1), int32(1), int64(3), object(13)\n",
            "memory usage: 118.1+ KB\n"
          ]
        }
      ]
    },
    {
      "cell_type": "markdown",
      "source": [
        "DataFrame shape: 816 rows × 19 columns  \n",
        "Index: Range from 0 to 815  \n",
        "Data: Combination of numbers, text, and dates  \n",
        "Examples:  \n",
        "- Numeric: id, season, toss_win_match_win  \n",
        "- Text: city, team1, winner  \n",
        "- Date: date  \n",
        "Some columns have missing values (e.g., city, winner, method).\n"
      ],
      "metadata": {
        "id": "HV4IuIngtNGf"
      }
    },
    {
      "cell_type": "code",
      "source": [
        "#getting the info of balls_df\n",
        "balls_df.info()"
      ],
      "metadata": {
        "colab": {
          "base_uri": "https://localhost:8080/"
        },
        "id": "hlT8QpZbsing",
        "outputId": "93f27370-413a-445e-b985-25b47647f6f5"
      },
      "execution_count": null,
      "outputs": [
        {
          "output_type": "stream",
          "name": "stdout",
          "text": [
            "<class 'pandas.core.frame.DataFrame'>\n",
            "RangeIndex: 152115 entries, 0 to 152114\n",
            "Data columns (total 18 columns):\n",
            " #   Column            Non-Null Count   Dtype \n",
            "---  ------            --------------   ----- \n",
            " 0   id                152115 non-null  int64 \n",
            " 1   inning            152115 non-null  int64 \n",
            " 2   over              152115 non-null  int64 \n",
            " 3   ball              152115 non-null  int64 \n",
            " 4   batsman           152115 non-null  object\n",
            " 5   non_striker       152115 non-null  object\n",
            " 6   bowler            152115 non-null  object\n",
            " 7   batsman_runs      152115 non-null  int64 \n",
            " 8   extra_runs        152115 non-null  int64 \n",
            " 9   total_runs        152115 non-null  int64 \n",
            " 10  non_boundary      152115 non-null  int64 \n",
            " 11  is_wicket         152115 non-null  int64 \n",
            " 12  dismissal_kind    7515 non-null    object\n",
            " 13  player_dismissed  7515 non-null    object\n",
            " 14  fielder           5417 non-null    object\n",
            " 15  extras_type       8262 non-null    object\n",
            " 16  batting_team      152114 non-null  object\n",
            " 17  bowling_team      151923 non-null  object\n",
            "dtypes: int64(9), object(9)\n",
            "memory usage: 20.9+ MB\n"
          ]
        }
      ]
    },
    {
      "cell_type": "markdown",
      "source": [
        "DataFrame shape: 152,115 rows × 18 columns  \n",
        "Index: Range from 0 to 152,114  \n",
        "Data: Mix of numbers and text  \n",
        "Examples:  \n",
        "- Numeric: id, inning, over, runs, is_wicket  \n",
        "- Text: batsman, bowler, batting_team, dismissal_kind  \n",
        "Some columns have missing values (e.g., dismissal_kind, player_dismissed, fielder, extras_type, teams).\n"
      ],
      "metadata": {
        "id": "8hBWaoePtwJv"
      }
    },
    {
      "cell_type": "code",
      "source": [
        "# Optional Processing\n",
        "matches_df['date'] = pd.to_datetime(matches_df['date'])\n",
        "matches_df['season'] = matches_df['date'].dt.year"
      ],
      "metadata": {
        "id": "qfGvhFHUX-PB"
      },
      "execution_count": null,
      "outputs": []
    },
    {
      "cell_type": "markdown",
      "source": [
        "- Converts 'date' column to datetime format.\n",
        "- Extracts year from 'date' and stores it in a new 'season' column.\n"
      ],
      "metadata": {
        "id": "16KbU6Hlx891"
      }
    },
    {
      "cell_type": "code",
      "source": [
        "# Question 1 -> What was the count of matches played in each season?\n",
        "matches_per_season = matches_df['season'].value_counts().sort_index()\n",
        "matches_per_season.head(15)"
      ],
      "metadata": {
        "colab": {
          "base_uri": "https://localhost:8080/",
          "height": 523
        },
        "id": "P0uRa8MuX-RZ",
        "outputId": "08dd5c07-3e63-493c-fd91-0758b6244727"
      },
      "execution_count": null,
      "outputs": [
        {
          "output_type": "execute_result",
          "data": {
            "text/plain": [
              "season\n",
              "2008    58\n",
              "2009    57\n",
              "2010    60\n",
              "2011    73\n",
              "2012    74\n",
              "2013    76\n",
              "2014    60\n",
              "2015    59\n",
              "2016    60\n",
              "2017    59\n",
              "2018    60\n",
              "2019    60\n",
              "2020    60\n",
              "Name: count, dtype: int64"
            ],
            "text/html": [
              "<div>\n",
              "<style scoped>\n",
              "    .dataframe tbody tr th:only-of-type {\n",
              "        vertical-align: middle;\n",
              "    }\n",
              "\n",
              "    .dataframe tbody tr th {\n",
              "        vertical-align: top;\n",
              "    }\n",
              "\n",
              "    .dataframe thead th {\n",
              "        text-align: right;\n",
              "    }\n",
              "</style>\n",
              "<table border=\"1\" class=\"dataframe\">\n",
              "  <thead>\n",
              "    <tr style=\"text-align: right;\">\n",
              "      <th></th>\n",
              "      <th>count</th>\n",
              "    </tr>\n",
              "    <tr>\n",
              "      <th>season</th>\n",
              "      <th></th>\n",
              "    </tr>\n",
              "  </thead>\n",
              "  <tbody>\n",
              "    <tr>\n",
              "      <th>2008</th>\n",
              "      <td>58</td>\n",
              "    </tr>\n",
              "    <tr>\n",
              "      <th>2009</th>\n",
              "      <td>57</td>\n",
              "    </tr>\n",
              "    <tr>\n",
              "      <th>2010</th>\n",
              "      <td>60</td>\n",
              "    </tr>\n",
              "    <tr>\n",
              "      <th>2011</th>\n",
              "      <td>73</td>\n",
              "    </tr>\n",
              "    <tr>\n",
              "      <th>2012</th>\n",
              "      <td>74</td>\n",
              "    </tr>\n",
              "    <tr>\n",
              "      <th>2013</th>\n",
              "      <td>76</td>\n",
              "    </tr>\n",
              "    <tr>\n",
              "      <th>2014</th>\n",
              "      <td>60</td>\n",
              "    </tr>\n",
              "    <tr>\n",
              "      <th>2015</th>\n",
              "      <td>59</td>\n",
              "    </tr>\n",
              "    <tr>\n",
              "      <th>2016</th>\n",
              "      <td>60</td>\n",
              "    </tr>\n",
              "    <tr>\n",
              "      <th>2017</th>\n",
              "      <td>59</td>\n",
              "    </tr>\n",
              "    <tr>\n",
              "      <th>2018</th>\n",
              "      <td>60</td>\n",
              "    </tr>\n",
              "    <tr>\n",
              "      <th>2019</th>\n",
              "      <td>60</td>\n",
              "    </tr>\n",
              "    <tr>\n",
              "      <th>2020</th>\n",
              "      <td>60</td>\n",
              "    </tr>\n",
              "  </tbody>\n",
              "</table>\n",
              "</div><br><label><b>dtype:</b> int64</label>"
            ]
          },
          "metadata": {},
          "execution_count": 5
        }
      ]
    },
    {
      "cell_type": "markdown",
      "source": [
        "### Count of Matches Played in Each Season\n",
        "\n",
        "- Counted the number of matches per season using `value_counts()`.\n",
        "- Sorted the counts by season in ascending order.\n",
        "\n",
        "**Output Observation**:  \n",
        "The number of matches per season ranges from 57 to 76, with 2013 having the highest count (76 matches).\n"
      ],
      "metadata": {
        "id": "NzmDXxQaynfy"
      }
    },
    {
      "cell_type": "code",
      "source": [
        "# Visualization 1 :\n",
        "plt.figure(figsize = (9, 5))\n",
        "sns.barplot(x = matches_per_season.index, y = matches_per_season.values)\n",
        "plt.title('Count of matches played in each season')\n",
        "plt.xlabel('Season')\n",
        "plt.ylabel('Count of matches')\n",
        "plt.xticks(rotation = 45)\n",
        "plt.tight_layout()\n",
        "plt.show()"
      ],
      "metadata": {
        "colab": {
          "base_uri": "https://localhost:8080/",
          "height": 507
        },
        "id": "z124lLxnX-Tj",
        "outputId": "99b36e2b-3858-4b2b-a6e1-ef40392da081"
      },
      "execution_count": null,
      "outputs": [
        {
          "output_type": "display_data",
          "data": {
            "text/plain": [
              "<Figure size 900x500 with 1 Axes>"
            ],
            "image/png": "[encoded data removed]"
          },
          "metadata": {}
        }
      ]
    },
    {
      "cell_type": "markdown",
      "source": [
        "* Observations from the countplot:\n",
        "1. The graph displays the count of matches played per season from 2008 to 2020.\n",
        "\n",
        "2. The number of matches varies each year, with no clear increasing or decreasing trend.\n",
        "\n",
        "3. Highest match counts occur in some years (e.g., 2013, 2018), while lower counts appear in others (e.g., 2020).\n"
      ],
      "metadata": {
        "id": "9sZEwheT0tsk"
      }
    },
    {
      "cell_type": "code",
      "source": [
        "# Question 2 -> How many runs were scored in each season?\n",
        "merged_df = balls_df.merge(matches_df[['id', 'season']], on = 'id')\n",
        "runs_per_season = merged_df.groupby('season')['total_runs'].sum().sort_index()\n",
        "runs_per_season.head(15)"
      ],
      "metadata": {
        "colab": {
          "base_uri": "https://localhost:8080/",
          "height": 460
        },
        "id": "NByA5DkTX-V1",
        "outputId": "9e262c0b-df68-4a17-c85d-cf684301c97e"
      },
      "execution_count": null,
      "outputs": [
        {
          "output_type": "execute_result",
          "data": {
            "text/plain": [
              "season\n",
              "2008    17937\n",
              "2009    16320\n",
              "2010    18864\n",
              "2011    21154\n",
              "2012    22453\n",
              "2013    22541\n",
              "2014    18909\n",
              "2015    18332\n",
              "2016    18862\n",
              "2017    18769\n",
              "2018     2396\n",
              "Name: total_runs, dtype: int64"
            ],
            "text/html": [
              "<div>\n",
              "<style scoped>\n",
              "    .dataframe tbody tr th:only-of-type {\n",
              "        vertical-align: middle;\n",
              "    }\n",
              "\n",
              "    .dataframe tbody tr th {\n",
              "        vertical-align: top;\n",
              "    }\n",
              "\n",
              "    .dataframe thead th {\n",
              "        text-align: right;\n",
              "    }\n",
              "</style>\n",
              "<table border=\"1\" class=\"dataframe\">\n",
              "  <thead>\n",
              "    <tr style=\"text-align: right;\">\n",
              "      <th></th>\n",
              "      <th>total_runs</th>\n",
              "    </tr>\n",
              "    <tr>\n",
              "      <th>season</th>\n",
              "      <th></th>\n",
              "    </tr>\n",
              "  </thead>\n",
              "  <tbody>\n",
              "    <tr>\n",
              "      <th>2008</th>\n",
              "      <td>17937</td>\n",
              "    </tr>\n",
              "    <tr>\n",
              "      <th>2009</th>\n",
              "      <td>16320</td>\n",
              "    </tr>\n",
              "    <tr>\n",
              "      <th>2010</th>\n",
              "      <td>18864</td>\n",
              "    </tr>\n",
              "    <tr>\n",
              "      <th>2011</th>\n",
              "      <td>21154</td>\n",
              "    </tr>\n",
              "    <tr>\n",
              "      <th>2012</th>\n",
              "      <td>22453</td>\n",
              "    </tr>\n",
              "    <tr>\n",
              "      <th>2013</th>\n",
              "      <td>22541</td>\n",
              "    </tr>\n",
              "    <tr>\n",
              "      <th>2014</th>\n",
              "      <td>18909</td>\n",
              "    </tr>\n",
              "    <tr>\n",
              "      <th>2015</th>\n",
              "      <td>18332</td>\n",
              "    </tr>\n",
              "    <tr>\n",
              "      <th>2016</th>\n",
              "      <td>18862</td>\n",
              "    </tr>\n",
              "    <tr>\n",
              "      <th>2017</th>\n",
              "      <td>18769</td>\n",
              "    </tr>\n",
              "    <tr>\n",
              "      <th>2018</th>\n",
              "      <td>2396</td>\n",
              "    </tr>\n",
              "  </tbody>\n",
              "</table>\n",
              "</div><br><label><b>dtype:</b> int64</label>"
            ]
          },
          "metadata": {},
          "execution_count": 7
        }
      ]
    },
    {
      "cell_type": "markdown",
      "source": [
        "### 🔍 Total Runs Scored in Each IPL Season\n",
        "\n",
        "- Merged ball-by-ball data with match data to add the `season` column using the match `id`.\n",
        "- Grouped the merged data by `season` and calculated the total runs scored in each.\n",
        "- Sorted the results by season to view trends over the years.\n",
        "\n",
        " **Output Observation**:  \n",
        "From 2008 to 2017, total runs per season ranged between 16,320 and 22,541.  \n",
        "In 2018, the total runs recorded were 2,396.\n",
        "\n"
      ],
      "metadata": {
        "id": "d6vaBNLjrcMw"
      }
    },
    {
      "cell_type": "code",
      "source": [
        "# Visualization 2 ->\n",
        "plt.figure(figsize = (9, 5))\n",
        "sns.barplot(x = runs_per_season.index, y = runs_per_season.values)\n",
        "plt.title('Runs scored in each season')\n",
        "plt.xlabel('Season')\n",
        "plt.ylabel('Runs scored')\n",
        "plt.xticks(rotation = 45)\n",
        "plt.tight_layout()\n",
        "plt.show()"
      ],
      "metadata": {
        "colab": {
          "base_uri": "https://localhost:8080/",
          "height": 507
        },
        "id": "DhpdT2pLX-YR",
        "outputId": "5002d7f8-4af9-465a-98e4-fcfee40bc63f"
      },
      "execution_count": null,
      "outputs": [
        {
          "output_type": "display_data",
          "data": {
            "text/plain": [
              "<Figure size 900x500 with 1 Axes>"
            ],
            "image/png": "[encoded data removed]"
          },
          "metadata": {}
        }
      ]
    },
    {
      "cell_type": "markdown",
      "source": [
        "From the plot\n",
        "\n",
        "1. Runs peaked around 2011–2013 (close to 20,000).\n",
        "\n",
        "2. A significant drop occurred after 2013, hitting the lowest point in 2017–2018 (~5,000 runs).\n",
        "\n",
        "3. The trend suggests a sharp decline in runs scored post-2013."
      ],
      "metadata": {
        "id": "Kaz3NnAStiiP"
      }
    },
    {
      "cell_type": "code",
      "source": [
        "# Question 3 -> What were the runs scored per match in different seasons?\n",
        "runs_per_match_season = runs_per_season / matches_per_season\n",
        "runs_per_match_season.head(15)"
      ],
      "metadata": {
        "colab": {
          "base_uri": "https://localhost:8080/",
          "height": 523
        },
        "id": "KpOUKMyFX-av",
        "outputId": "72bd4ef4-4de8-4879-f955-82433bf6f535"
      },
      "execution_count": null,
      "outputs": [
        {
          "output_type": "execute_result",
          "data": {
            "text/plain": [
              "season\n",
              "2008    309.258621\n",
              "2009    286.315789\n",
              "2010    314.400000\n",
              "2011    289.780822\n",
              "2012    303.418919\n",
              "2013    296.592105\n",
              "2014    315.150000\n",
              "2015    310.711864\n",
              "2016    314.366667\n",
              "2017    318.118644\n",
              "2018     39.933333\n",
              "2019           NaN\n",
              "2020           NaN\n",
              "dtype: float64"
            ],
            "text/html": [
              "<div>\n",
              "<style scoped>\n",
              "    .dataframe tbody tr th:only-of-type {\n",
              "        vertical-align: middle;\n",
              "    }\n",
              "\n",
              "    .dataframe tbody tr th {\n",
              "        vertical-align: top;\n",
              "    }\n",
              "\n",
              "    .dataframe thead th {\n",
              "        text-align: right;\n",
              "    }\n",
              "</style>\n",
              "<table border=\"1\" class=\"dataframe\">\n",
              "  <thead>\n",
              "    <tr style=\"text-align: right;\">\n",
              "      <th></th>\n",
              "      <th>0</th>\n",
              "    </tr>\n",
              "    <tr>\n",
              "      <th>season</th>\n",
              "      <th></th>\n",
              "    </tr>\n",
              "  </thead>\n",
              "  <tbody>\n",
              "    <tr>\n",
              "      <th>2008</th>\n",
              "      <td>309.258621</td>\n",
              "    </tr>\n",
              "    <tr>\n",
              "      <th>2009</th>\n",
              "      <td>286.315789</td>\n",
              "    </tr>\n",
              "    <tr>\n",
              "      <th>2010</th>\n",
              "      <td>314.400000</td>\n",
              "    </tr>\n",
              "    <tr>\n",
              "      <th>2011</th>\n",
              "      <td>289.780822</td>\n",
              "    </tr>\n",
              "    <tr>\n",
              "      <th>2012</th>\n",
              "      <td>303.418919</td>\n",
              "    </tr>\n",
              "    <tr>\n",
              "      <th>2013</th>\n",
              "      <td>296.592105</td>\n",
              "    </tr>\n",
              "    <tr>\n",
              "      <th>2014</th>\n",
              "      <td>315.150000</td>\n",
              "    </tr>\n",
              "    <tr>\n",
              "      <th>2015</th>\n",
              "      <td>310.711864</td>\n",
              "    </tr>\n",
              "    <tr>\n",
              "      <th>2016</th>\n",
              "      <td>314.366667</td>\n",
              "    </tr>\n",
              "    <tr>\n",
              "      <th>2017</th>\n",
              "      <td>318.118644</td>\n",
              "    </tr>\n",
              "    <tr>\n",
              "      <th>2018</th>\n",
              "      <td>39.933333</td>\n",
              "    </tr>\n",
              "    <tr>\n",
              "      <th>2019</th>\n",
              "      <td>NaN</td>\n",
              "    </tr>\n",
              "    <tr>\n",
              "      <th>2020</th>\n",
              "      <td>NaN</td>\n",
              "    </tr>\n",
              "  </tbody>\n",
              "</table>\n",
              "</div><br><label><b>dtype:</b> float64</label>"
            ]
          },
          "metadata": {},
          "execution_count": 9
        }
      ]
    },
    {
      "cell_type": "markdown",
      "source": [
        "### Runs Scored Per Match in Different Seasons\n",
        "\n",
        "- Calculated runs per match by dividing total runs per season by the number of matches played in that season.\n",
        "- Displayed the runs per match for each season in chronological order.\n",
        "\n",
        "**Output Observation**:  \n",
        "- Runs per match vary between about 286 and 318 from 2008 to 2017.  \n",
        "- In 2018, the runs per match drop sharply to around 39.93.  \n",
        "- For 2019 and 2020, no data is available (NaN).\n"
      ],
      "metadata": {
        "id": "s9WriwYkt20N"
      }
    },
    {
      "cell_type": "code",
      "source": [
        "# Question 4 : Who has umpired the most?\n",
        "umpires = pd.concat([matches_df['umpire1'], matches_df['umpire2']]).value_counts()\n",
        "umpires.head(1)"
      ],
      "metadata": {
        "colab": {
          "base_uri": "https://localhost:8080/",
          "height": 115
        },
        "id": "DMzP4CD_X-c-",
        "outputId": "3eb55332-a526-454b-8eab-bb063c807d6c"
      },
      "execution_count": null,
      "outputs": [
        {
          "output_type": "execute_result",
          "data": {
            "text/plain": [
              "S Ravi    121\n",
              "Name: count, dtype: int64"
            ],
            "text/html": [
              "<div>\n",
              "<style scoped>\n",
              "    .dataframe tbody tr th:only-of-type {\n",
              "        vertical-align: middle;\n",
              "    }\n",
              "\n",
              "    .dataframe tbody tr th {\n",
              "        vertical-align: top;\n",
              "    }\n",
              "\n",
              "    .dataframe thead th {\n",
              "        text-align: right;\n",
              "    }\n",
              "</style>\n",
              "<table border=\"1\" class=\"dataframe\">\n",
              "  <thead>\n",
              "    <tr style=\"text-align: right;\">\n",
              "      <th></th>\n",
              "      <th>count</th>\n",
              "    </tr>\n",
              "  </thead>\n",
              "  <tbody>\n",
              "    <tr>\n",
              "      <th>S Ravi</th>\n",
              "      <td>121</td>\n",
              "    </tr>\n",
              "  </tbody>\n",
              "</table>\n",
              "</div><br><label><b>dtype:</b> int64</label>"
            ]
          },
          "metadata": {},
          "execution_count": 10
        }
      ]
    },
    {
      "cell_type": "markdown",
      "source": [
        "###  Umpire with the Most Matches\n",
        "\n",
        "- Combined the two umpire columns from the matches data into one list.\n",
        "- Counted how many matches each umpire officiated.\n",
        "- Sorted to find the umpire with the highest number of matches.\n",
        "\n",
        "**Output Observation**:  \n",
        "S Ravi umpired the most matches, with a total of 121.\n"
      ],
      "metadata": {
        "id": "iNpDIsx0uPCf"
      }
    },
    {
      "cell_type": "code",
      "source": [
        "# Other option\n",
        "umpires.idxmax()"
      ],
      "metadata": {
        "colab": {
          "base_uri": "https://localhost:8080/",
          "height": 36
        },
        "id": "g_E_qLL2gEvy",
        "outputId": "83c0bdf5-3dd8-4e73-c96c-a0781464416d"
      },
      "execution_count": null,
      "outputs": [
        {
          "output_type": "execute_result",
          "data": {
            "text/plain": [
              "'S Ravi'"
            ],
            "application/vnd.google.colaboratory.intrinsic+json": {
              "type": "string"
            }
          },
          "metadata": {},
          "execution_count": 11
        }
      ]
    },
    {
      "cell_type": "markdown",
      "source": [
        "### `idxmax()`\n",
        "\n",
        "- `idxmax()` returns the **index label** of the maximum value in a Series.\n",
        "- In this context, it gives the name of the umpire with the highest number of matches.\n",
        "- It helps find the position (label) of the largest value without sorting the whole data.\n"
      ],
      "metadata": {
        "id": "mzEocTb0u_IO"
      }
    },
    {
      "cell_type": "code",
      "source": [
        "# Question 5 -> Which team has won the most tosses?\n",
        "most_tosses_won = matches_df['toss_winner'].value_counts()\n",
        "most_tosses_won.head(1)"
      ],
      "metadata": {
        "colab": {
          "base_uri": "https://localhost:8080/",
          "height": 147
        },
        "id": "4o9b3DDggEy3",
        "outputId": "b4b95c4e-f081-4072-e093-a6a297076345"
      },
      "execution_count": null,
      "outputs": [
        {
          "output_type": "execute_result",
          "data": {
            "text/plain": [
              "toss_winner\n",
              "Mumbai Indians    106\n",
              "Name: count, dtype: int64"
            ],
            "text/html": [
              "<div>\n",
              "<style scoped>\n",
              "    .dataframe tbody tr th:only-of-type {\n",
              "        vertical-align: middle;\n",
              "    }\n",
              "\n",
              "    .dataframe tbody tr th {\n",
              "        vertical-align: top;\n",
              "    }\n",
              "\n",
              "    .dataframe thead th {\n",
              "        text-align: right;\n",
              "    }\n",
              "</style>\n",
              "<table border=\"1\" class=\"dataframe\">\n",
              "  <thead>\n",
              "    <tr style=\"text-align: right;\">\n",
              "      <th></th>\n",
              "      <th>count</th>\n",
              "    </tr>\n",
              "    <tr>\n",
              "      <th>toss_winner</th>\n",
              "      <th></th>\n",
              "    </tr>\n",
              "  </thead>\n",
              "  <tbody>\n",
              "    <tr>\n",
              "      <th>Mumbai Indians</th>\n",
              "      <td>106</td>\n",
              "    </tr>\n",
              "  </tbody>\n",
              "</table>\n",
              "</div><br><label><b>dtype:</b> int64</label>"
            ]
          },
          "metadata": {},
          "execution_count": 12
        }
      ]
    },
    {
      "cell_type": "code",
      "source": [
        "# Other option\n",
        "most_tosses_won.idxmax()"
      ],
      "metadata": {
        "colab": {
          "base_uri": "https://localhost:8080/",
          "height": 36
        },
        "id": "kh05uEiGgE3H",
        "outputId": "8f2c6896-9562-47a7-872d-1069bcadaeec"
      },
      "execution_count": null,
      "outputs": [
        {
          "output_type": "execute_result",
          "data": {
            "text/plain": [
              "'Mumbai Indians'"
            ],
            "application/vnd.google.colaboratory.intrinsic+json": {
              "type": "string"
            }
          },
          "metadata": {},
          "execution_count": 13
        }
      ]
    },
    {
      "cell_type": "markdown",
      "source": [
        "### Team with the Most Toss Wins\n",
        "\n",
        "- Counted how many times each team won the toss using `value_counts()` on the `toss_winner` column or simply using idxmax() fn\n",
        "\n",
        "**Output Observation**:  \n",
        "Mumbai Indians won the most tosses, with a total of 106.\n"
      ],
      "metadata": {
        "id": "T-YQ-5_DvOBJ"
      }
    },
    {
      "cell_type": "code",
      "source": [
        "# Question 6 -> What does the team decide after winning the toss?\n",
        "toss_decision_count = matches_df['toss_decision'].value_counts()\n",
        "toss_decision_count.head()"
      ],
      "metadata": {
        "colab": {
          "base_uri": "https://localhost:8080/",
          "height": 178
        },
        "id": "b7uOW8TOgE5p",
        "outputId": "2d8e4e9c-a9e3-4b37-863f-79014e17ce50"
      },
      "execution_count": null,
      "outputs": [
        {
          "output_type": "execute_result",
          "data": {
            "text/plain": [
              "toss_decision\n",
              "field    496\n",
              "bat      320\n",
              "Name: count, dtype: int64"
            ],
            "text/html": [
              "<div>\n",
              "<style scoped>\n",
              "    .dataframe tbody tr th:only-of-type {\n",
              "        vertical-align: middle;\n",
              "    }\n",
              "\n",
              "    .dataframe tbody tr th {\n",
              "        vertical-align: top;\n",
              "    }\n",
              "\n",
              "    .dataframe thead th {\n",
              "        text-align: right;\n",
              "    }\n",
              "</style>\n",
              "<table border=\"1\" class=\"dataframe\">\n",
              "  <thead>\n",
              "    <tr style=\"text-align: right;\">\n",
              "      <th></th>\n",
              "      <th>count</th>\n",
              "    </tr>\n",
              "    <tr>\n",
              "      <th>toss_decision</th>\n",
              "      <th></th>\n",
              "    </tr>\n",
              "  </thead>\n",
              "  <tbody>\n",
              "    <tr>\n",
              "      <th>field</th>\n",
              "      <td>496</td>\n",
              "    </tr>\n",
              "    <tr>\n",
              "      <th>bat</th>\n",
              "      <td>320</td>\n",
              "    </tr>\n",
              "  </tbody>\n",
              "</table>\n",
              "</div><br><label><b>dtype:</b> int64</label>"
            ]
          },
          "metadata": {},
          "execution_count": 14
        }
      ]
    },
    {
      "cell_type": "markdown",
      "source": [
        "###  Team Decisions After Winning the Toss\n",
        "\n",
        "- Counted how many times teams chose to either bat or field after winning the toss using `value_counts()` on `toss_decision`.\n",
        "\n",
        "**Output Observation**:  \n",
        "Teams decided to field 496 times and to bat 320 times.\n"
      ],
      "metadata": {
        "id": "AbQufDY2wHnw"
      }
    },
    {
      "cell_type": "code",
      "source": [
        "# Question 7 -> How does the toss decision vary across seasons?\n",
        "toss_decision_by_season = matches_df.groupby(['season', 'toss_decision']).count().unstack().fillna(0)\n",
        "toss_decision_by_season.head(20)"
      ],
      "metadata": {
        "colab": {
          "base_uri": "https://localhost:8080/",
          "height": 569
        },
        "id": "cbzRPMNogE8T",
        "outputId": "a673866c-24e3-4c41-d132-7c19947dc7de"
      },
      "execution_count": null,
      "outputs": [
        {
          "output_type": "execute_result",
          "data": {
            "text/plain": [
              "               id       city       date       player_of_match       venue  \\\n",
              "toss_decision bat field  bat field  bat field             bat field   bat   \n",
              "season                                                                      \n",
              "2008           26    32   26    32   26    32              26    32    26   \n",
              "2009           35    22   35    22   35    22              35    22    35   \n",
              "2010           39    21   39    21   39    21              39    21    39   \n",
              "2011           25    48   25    48   25    48              24    48    25   \n",
              "2012           37    37   37    37   37    37              37    37    37   \n",
              "2013           45    31   45    31   45    31              45    31    45   \n",
              "2014           19    41   14    33   19    41              19    41    19   \n",
              "2015           25    34   25    34   25    34              25    32    25   \n",
              "2016           11    49   11    49   11    49              11    49    11   \n",
              "2017           11    48   11    48   11    48              11    48    11   \n",
              "2018           10    50   10    50   10    50              10    50    10   \n",
              "2019           10    50   10    50   10    50              10    49    10   \n",
              "2020           27    33   27    33   27    33              27    33    27   \n",
              "\n",
              "                     ... result_margin       eliminator       method        \\\n",
              "toss_decision field  ...           bat field        bat field    bat field   \n",
              "season               ...                                                     \n",
              "2008             32  ...            26    32         26    32      2     0   \n",
              "2009             22  ...            35    21         35    22      1     2   \n",
              "2010             21  ...            39    20         39    21      0     0   \n",
              "2011             48  ...            24    48         24    48      1     2   \n",
              "2012             37  ...            37    37         37    37      0     0   \n",
              "2013             31  ...            44    30         45    31      0     0   \n",
              "2014             41  ...            18    41         19    41      0     1   \n",
              "2015             34  ...            25    31         25    32      1     1   \n",
              "2016             49  ...            11    49         11    49      1     3   \n",
              "2017             48  ...            10    48         11    48      0     1   \n",
              "2018             50  ...            10    50         10    50      0     3   \n",
              "2019             50  ...             9    48         10    49      0     0   \n",
              "2020             33  ...            26    30         27    33      0     0   \n",
              "\n",
              "              umpire1       umpire2        \n",
              "toss_decision     bat field     bat field  \n",
              "season                                     \n",
              "2008               26    32      26    32  \n",
              "2009               35    22      35    22  \n",
              "2010               39    21      39    21  \n",
              "2011               25    48      25    48  \n",
              "2012               37    37      37    37  \n",
              "2013               45    31      45    31  \n",
              "2014               19    41      19    41  \n",
              "2015               25    34      25    34  \n",
              "2016               11    49      11    49  \n",
              "2017               11    48      11    48  \n",
              "2018               10    50      10    50  \n",
              "2019               10    50      10    50  \n",
              "2020               27    33      27    33  \n",
              "\n",
              "[13 rows x 32 columns]"
            ],
            "text/html": [
              "\n",
              "  <div id=\"df-5586384a-9f3b-4a4c-b427-6edd1b4d19c4\" class=\"colab-df-container\">\n",
              "    <div>\n",
              "<style scoped>\n",
              "    .dataframe tbody tr th:only-of-type {\n",
              "        vertical-align: middle;\n",
              "    }\n",
              "\n",
              "    .dataframe tbody tr th {\n",
              "        vertical-align: top;\n",
              "    }\n",
              "\n",
              "    .dataframe thead tr th {\n",
              "        text-align: left;\n",
              "    }\n",
              "\n",
              "    .dataframe thead tr:last-of-type th {\n",
              "        text-align: right;\n",
              "    }\n",
              "</style>\n",
              "<table border=\"1\" class=\"dataframe\">\n",
              "  <thead>\n",
              "    <tr>\n",
              "      <th></th>\n",
              "      <th colspan=\"2\" halign=\"left\">id</th>\n",
              "      <th colspan=\"2\" halign=\"left\">city</th>\n",
              "      <th colspan=\"2\" halign=\"left\">date</th>\n",
              "      <th colspan=\"2\" halign=\"left\">player_of_match</th>\n",
              "      <th colspan=\"2\" halign=\"left\">venue</th>\n",
              "      <th>...</th>\n",
              "      <th colspan=\"2\" halign=\"left\">result_margin</th>\n",
              "      <th colspan=\"2\" halign=\"left\">eliminator</th>\n",
              "      <th colspan=\"2\" halign=\"left\">method</th>\n",
              "      <th colspan=\"2\" halign=\"left\">umpire1</th>\n",
              "      <th colspan=\"2\" halign=\"left\">umpire2</th>\n",
              "    </tr>\n",
              "    <tr>\n",
              "      <th>toss_decision</th>\n",
              "      <th>bat</th>\n",
              "      <th>field</th>\n",
              "      <th>bat</th>\n",
              "      <th>field</th>\n",
              "      <th>bat</th>\n",
              "      <th>field</th>\n",
              "      <th>bat</th>\n",
              "      <th>field</th>\n",
              "      <th>bat</th>\n",
              "      <th>field</th>\n",
              "      <th>...</th>\n",
              "      <th>bat</th>\n",
              "      <th>field</th>\n",
              "      <th>bat</th>\n",
              "      <th>field</th>\n",
              "      <th>bat</th>\n",
              "      <th>field</th>\n",
              "      <th>bat</th>\n",
              "      <th>field</th>\n",
              "      <th>bat</th>\n",
              "      <th>field</th>\n",
              "    </tr>\n",
              "    <tr>\n",
              "      <th>season</th>\n",
              "      <th></th>\n",
              "      <th></th>\n",
              "      <th></th>\n",
              "      <th></th>\n",
              "      <th></th>\n",
              "      <th></th>\n",
              "      <th></th>\n",
              "      <th></th>\n",
              "      <th></th>\n",
              "      <th></th>\n",
              "      <th></th>\n",
              "      <th></th>\n",
              "      <th></th>\n",
              "      <th></th>\n",
              "      <th></th>\n",
              "      <th></th>\n",
              "      <th></th>\n",
              "      <th></th>\n",
              "      <th></th>\n",
              "      <th></th>\n",
              "      <th></th>\n",
              "    </tr>\n",
              "  </thead>\n",
              "  <tbody>\n",
              "    <tr>\n",
              "      <th>2008</th>\n",
              "      <td>26</td>\n",
              "      <td>32</td>\n",
              "      <td>26</td>\n",
              "      <td>32</td>\n",
              "      <td>26</td>\n",
              "      <td>32</td>\n",
              "      <td>26</td>\n",
              "      <td>32</td>\n",
              "      <td>26</td>\n",
              "      <td>32</td>\n",
              "      <td>...</td>\n",
              "      <td>26</td>\n",
              "      <td>32</td>\n",
              "      <td>26</td>\n",
              "      <td>32</td>\n",
              "      <td>2</td>\n",
              "      <td>0</td>\n",
              "      <td>26</td>\n",
              "      <td>32</td>\n",
              "      <td>26</td>\n",
              "      <td>32</td>\n",
              "    </tr>\n",
              "    <tr>\n",
              "      <th>2009</th>\n",
              "      <td>35</td>\n",
              "      <td>22</td>\n",
              "      <td>35</td>\n",
              "      <td>22</td>\n",
              "      <td>35</td>\n",
              "      <td>22</td>\n",
              "      <td>35</td>\n",
              "      <td>22</td>\n",
              "      <td>35</td>\n",
              "      <td>22</td>\n",
              "      <td>...</td>\n",
              "      <td>35</td>\n",
              "      <td>21</td>\n",
              "      <td>35</td>\n",
              "      <td>22</td>\n",
              "      <td>1</td>\n",
              "      <td>2</td>\n",
              "      <td>35</td>\n",
              "      <td>22</td>\n",
              "      <td>35</td>\n",
              "      <td>22</td>\n",
              "    </tr>\n",
              "    <tr>\n",
              "      <th>2010</th>\n",
              "      <td>39</td>\n",
              "      <td>21</td>\n",
              "      <td>39</td>\n",
              "      <td>21</td>\n",
              "      <td>39</td>\n",
              "      <td>21</td>\n",
              "      <td>39</td>\n",
              "      <td>21</td>\n",
              "      <td>39</td>\n",
              "      <td>21</td>\n",
              "      <td>...</td>\n",
              "      <td>39</td>\n",
              "      <td>20</td>\n",
              "      <td>39</td>\n",
              "      <td>21</td>\n",
              "      <td>0</td>\n",
              "      <td>0</td>\n",
              "      <td>39</td>\n",
              "      <td>21</td>\n",
              "      <td>39</td>\n",
              "      <td>21</td>\n",
              "    </tr>\n",
              "    <tr>\n",
              "      <th>2011</th>\n",
              "      <td>25</td>\n",
              "      <td>48</td>\n",
              "      <td>25</td>\n",
              "      <td>48</td>\n",
              "      <td>25</td>\n",
              "      <td>48</td>\n",
              "      <td>24</td>\n",
              "      <td>48</td>\n",
              "      <td>25</td>\n",
              "      <td>48</td>\n",
              "      <td>...</td>\n",
              "      <td>24</td>\n",
              "      <td>48</td>\n",
              "      <td>24</td>\n",
              "      <td>48</td>\n",
              "      <td>1</td>\n",
              "      <td>2</td>\n",
              "      <td>25</td>\n",
              "      <td>48</td>\n",
              "      <td>25</td>\n",
              "      <td>48</td>\n",
              "    </tr>\n",
              "    <tr>\n",
              "      <th>2012</th>\n",
              "      <td>37</td>\n",
              "      <td>37</td>\n",
              "      <td>37</td>\n",
              "      <td>37</td>\n",
              "      <td>37</td>\n",
              "      <td>37</td>\n",
              "      <td>37</td>\n",
              "      <td>37</td>\n",
              "      <td>37</td>\n",
              "      <td>37</td>\n",
              "      <td>...</td>\n",
              "      <td>37</td>\n",
              "      <td>37</td>\n",
              "      <td>37</td>\n",
              "      <td>37</td>\n",
              "      <td>0</td>\n",
              "      <td>0</td>\n",
              "      <td>37</td>\n",
              "      <td>37</td>\n",
              "      <td>37</td>\n",
              "      <td>37</td>\n",
              "    </tr>\n",
              "    <tr>\n",
              "      <th>2013</th>\n",
              "      <td>45</td>\n",
              "      <td>31</td>\n",
              "      <td>45</td>\n",
              "      <td>31</td>\n",
              "      <td>45</td>\n",
              "      <td>31</td>\n",
              "      <td>45</td>\n",
              "      <td>31</td>\n",
              "      <td>45</td>\n",
              "      <td>31</td>\n",
              "      <td>...</td>\n",
              "      <td>44</td>\n",
              "      <td>30</td>\n",
              "      <td>45</td>\n",
              "      <td>31</td>\n",
              "      <td>0</td>\n",
              "      <td>0</td>\n",
              "      <td>45</td>\n",
              "      <td>31</td>\n",
              "      <td>45</td>\n",
              "      <td>31</td>\n",
              "    </tr>\n",
              "    <tr>\n",
              "      <th>2014</th>\n",
              "      <td>19</td>\n",
              "      <td>41</td>\n",
              "      <td>14</td>\n",
              "      <td>33</td>\n",
              "      <td>19</td>\n",
              "      <td>41</td>\n",
              "      <td>19</td>\n",
              "      <td>41</td>\n",
              "      <td>19</td>\n",
              "      <td>41</td>\n",
              "      <td>...</td>\n",
              "      <td>18</td>\n",
              "      <td>41</td>\n",
              "      <td>19</td>\n",
              "      <td>41</td>\n",
              "      <td>0</td>\n",
              "      <td>1</td>\n",
              "      <td>19</td>\n",
              "      <td>41</td>\n",
              "      <td>19</td>\n",
              "      <td>41</td>\n",
              "    </tr>\n",
              "    <tr>\n",
              "      <th>2015</th>\n",
              "      <td>25</td>\n",
              "      <td>34</td>\n",
              "      <td>25</td>\n",
              "      <td>34</td>\n",
              "      <td>25</td>\n",
              "      <td>34</td>\n",
              "      <td>25</td>\n",
              "      <td>32</td>\n",
              "      <td>25</td>\n",
              "      <td>34</td>\n",
              "      <td>...</td>\n",
              "      <td>25</td>\n",
              "      <td>31</td>\n",
              "      <td>25</td>\n",
              "      <td>32</td>\n",
              "      <td>1</td>\n",
              "      <td>1</td>\n",
              "      <td>25</td>\n",
              "      <td>34</td>\n",
              "      <td>25</td>\n",
              "      <td>34</td>\n",
              "    </tr>\n",
              "    <tr>\n",
              "      <th>2016</th>\n",
              "      <td>11</td>\n",
              "      <td>49</td>\n",
              "      <td>11</td>\n",
              "      <td>49</td>\n",
              "      <td>11</td>\n",
              "      <td>49</td>\n",
              "      <td>11</td>\n",
              "      <td>49</td>\n",
              "      <td>11</td>\n",
              "      <td>49</td>\n",
              "      <td>...</td>\n",
              "      <td>11</td>\n",
              "      <td>49</td>\n",
              "      <td>11</td>\n",
              "      <td>49</td>\n",
              "      <td>1</td>\n",
              "      <td>3</td>\n",
              "      <td>11</td>\n",
              "      <td>49</td>\n",
              "      <td>11</td>\n",
              "      <td>49</td>\n",
              "    </tr>\n",
              "    <tr>\n",
              "      <th>2017</th>\n",
              "      <td>11</td>\n",
              "      <td>48</td>\n",
              "      <td>11</td>\n",
              "      <td>48</td>\n",
              "      <td>11</td>\n",
              "      <td>48</td>\n",
              "      <td>11</td>\n",
              "      <td>48</td>\n",
              "      <td>11</td>\n",
              "      <td>48</td>\n",
              "      <td>...</td>\n",
              "      <td>10</td>\n",
              "      <td>48</td>\n",
              "      <td>11</td>\n",
              "      <td>48</td>\n",
              "      <td>0</td>\n",
              "      <td>1</td>\n",
              "      <td>11</td>\n",
              "      <td>48</td>\n",
              "      <td>11</td>\n",
              "      <td>48</td>\n",
              "    </tr>\n",
              "    <tr>\n",
              "      <th>2018</th>\n",
              "      <td>10</td>\n",
              "      <td>50</td>\n",
              "      <td>10</td>\n",
              "      <td>50</td>\n",
              "      <td>10</td>\n",
              "      <td>50</td>\n",
              "      <td>10</td>\n",
              "      <td>50</td>\n",
              "      <td>10</td>\n",
              "      <td>50</td>\n",
              "      <td>...</td>\n",
              "      <td>10</td>\n",
              "      <td>50</td>\n",
              "      <td>10</td>\n",
              "      <td>50</td>\n",
              "      <td>0</td>\n",
              "      <td>3</td>\n",
              "      <td>10</td>\n",
              "      <td>50</td>\n",
              "      <td>10</td>\n",
              "      <td>50</td>\n",
              "    </tr>\n",
              "    <tr>\n",
              "      <th>2019</th>\n",
              "      <td>10</td>\n",
              "      <td>50</td>\n",
              "      <td>10</td>\n",
              "      <td>50</td>\n",
              "      <td>10</td>\n",
              "      <td>50</td>\n",
              "      <td>10</td>\n",
              "      <td>49</td>\n",
              "      <td>10</td>\n",
              "      <td>50</td>\n",
              "      <td>...</td>\n",
              "      <td>9</td>\n",
              "      <td>48</td>\n",
              "      <td>10</td>\n",
              "      <td>49</td>\n",
              "      <td>0</td>\n",
              "      <td>0</td>\n",
              "      <td>10</td>\n",
              "      <td>50</td>\n",
              "      <td>10</td>\n",
              "      <td>50</td>\n",
              "    </tr>\n",
              "    <tr>\n",
              "      <th>2020</th>\n",
              "      <td>27</td>\n",
              "      <td>33</td>\n",
              "      <td>27</td>\n",
              "      <td>33</td>\n",
              "      <td>27</td>\n",
              "      <td>33</td>\n",
              "      <td>27</td>\n",
              "      <td>33</td>\n",
              "      <td>27</td>\n",
              "      <td>33</td>\n",
              "      <td>...</td>\n",
              "      <td>26</td>\n",
              "      <td>30</td>\n",
              "      <td>27</td>\n",
              "      <td>33</td>\n",
              "      <td>0</td>\n",
              "      <td>0</td>\n",
              "      <td>27</td>\n",
              "      <td>33</td>\n",
              "      <td>27</td>\n",
              "      <td>33</td>\n",
              "    </tr>\n",
              "  </tbody>\n",
              "</table>\n",
              "<p>13 rows × 32 columns</p>\n",
              "</div>\n",
              "    <div class=\"colab-df-buttons\">\n",
              "\n",
              "  <div class=\"colab-df-container\">\n",
              "    <button class=\"colab-df-convert\" onclick=\"convertToInteractive('df-5586384a-9f3b-4a4c-b427-6edd1b4d19c4')\"\n",
              "            title=\"Convert this dataframe to an interactive table.\"\n",
              "            style=\"display:none;\">\n",
              "\n",
              "  <svg xmlns=\"http://www.w3.org/2000/svg\" height=\"24px\" viewBox=\"0 -960 960 960\">\n",
              "    <path d=\"M120-120v-720h720v720H120Zm60-500h600v-160H180v160Zm220 220h160v-160H400v160Zm0 220h160v-160H400v160ZM180-400h160v-160H180v160Zm440 0h160v-160H620v160ZM180-180h160v-160H180v160Zm440 0h160v-160H620v160Z\"/>\n",
              "  </svg>\n",
              "    </button>\n",
              "\n",
              "  <style>\n",
              "    .colab-df-container {\n",
              "      display:flex;\n",
              "      gap: 12px;\n",
              "    }\n",
              "\n",
              "    .colab-df-convert {\n",
              "      background-color: #E8F0FE;\n",
              "      border: none;\n",
              "      border-radius: 50%;\n",
              "      cursor: pointer;\n",
              "      display: none;\n",
              "      fill: #1967D2;\n",
              "      height: 32px;\n",
              "      padding: 0 0 0 0;\n",
              "      width: 32px;\n",
              "    }\n",
              "\n",
              "    .colab-df-convert:hover {\n",
              "      background-color: #E2EBFA;\n",
              "      box-shadow: 0px 1px 2px rgba(60, 64, 67, 0.3), 0px 1px 3px 1px rgba(60, 64, 67, 0.15);\n",
              "      fill: #174EA6;\n",
              "    }\n",
              "\n",
              "    .colab-df-buttons div {\n",
              "      margin-bottom: 4px;\n",
              "    }\n",
              "\n",
              "    [theme=dark] .colab-df-convert {\n",
              "      background-color: #3B4455;\n",
              "      fill: #D2E3FC;\n",
              "    }\n",
              "\n",
              "    [theme=dark] .colab-df-convert:hover {\n",
              "      background-color: #434B5C;\n",
              "      box-shadow: 0px 1px 3px 1px rgba(0, 0, 0, 0.15);\n",
              "      filter: drop-shadow(0px 1px 2px rgba(0, 0, 0, 0.3));\n",
              "      fill: #FFFFFF;\n",
              "    }\n",
              "  </style>\n",
              "\n",
              "    <script>\n",
              "      const buttonEl =\n",
              "        document.querySelector('#df-5586384a-9f3b-4a4c-b427-6edd1b4d19c4 button.colab-df-convert');\n",
              "      buttonEl.style.display =\n",
              "        google.colab.kernel.accessAllowed ? 'block' : 'none';\n",
              "\n",
              "      async function convertToInteractive(key) {\n",
              "        const element = document.querySelector('#df-5586384a-9f3b-4a4c-b427-6edd1b4d19c4');\n",
              "        const dataTable =\n",
              "          await google.colab.kernel.invokeFunction('convertToInteractive',\n",
              "                                                    [key], {});\n",
              "        if (!dataTable) return;\n",
              "\n",
              "        const docLinkHtml = 'Like what you see? Visit the ' +\n",
              "          '<a target=\"_blank\" href=https://colab.research.google.com/notebooks/data_table.ipynb>data table notebook</a>'\n",
              "          + ' to learn more about interactive tables.';\n",
              "        element.innerHTML = '';\n",
              "        dataTable['output_type'] = 'display_data';\n",
              "        await google.colab.output.renderOutput(dataTable, element);\n",
              "        const docLink = document.createElement('div');\n",
              "        docLink.innerHTML = docLinkHtml;\n",
              "        element.appendChild(docLink);\n",
              "      }\n",
              "    </script>\n",
              "  </div>\n",
              "\n",
              "\n",
              "    <div id=\"df-ea3af817-383a-4992-a0ea-3dd478e60944\">\n",
              "      <button class=\"colab-df-quickchart\" onclick=\"quickchart('df-ea3af817-383a-4992-a0ea-3dd478e60944')\"\n",
              "                title=\"Suggest charts\"\n",
              "                style=\"display:none;\">\n",
              "\n",
              "<svg xmlns=\"http://www.w3.org/2000/svg\" height=\"24px\"viewBox=\"0 0 24 24\"\n",
              "     width=\"24px\">\n",
              "    <g>\n",
              "        <path d=\"M19 3H5c-1.1 0-2 .9-2 2v14c0 1.1.9 2 2 2h14c1.1 0 2-.9 2-2V5c0-1.1-.9-2-2-2zM9 17H7v-7h2v7zm4 0h-2V7h2v10zm4 0h-2v-4h2v4z\"/>\n",
              "    </g>\n",
              "</svg>\n",
              "      </button>\n",
              "\n",
              "<style>\n",
              "  .colab-df-quickchart {\n",
              "      --bg-color: #E8F0FE;\n",
              "      --fill-color: #1967D2;\n",
              "      --hover-bg-color: #E2EBFA;\n",
              "      --hover-fill-color: #174EA6;\n",
              "      --disabled-fill-color: #AAA;\n",
              "      --disabled-bg-color: #DDD;\n",
              "  }\n",
              "\n",
              "  [theme=dark] .colab-df-quickchart {\n",
              "      --bg-color: #3B4455;\n",
              "      --fill-color: #D2E3FC;\n",
              "      --hover-bg-color: #434B5C;\n",
              "      --hover-fill-color: #FFFFFF;\n",
              "      --disabled-bg-color: #3B4455;\n",
              "      --disabled-fill-color: #666;\n",
              "  }\n",
              "\n",
              "  .colab-df-quickchart {\n",
              "    background-color: var(--bg-color);\n",
              "    border: none;\n",
              "    border-radius: 50%;\n",
              "    cursor: pointer;\n",
              "    display: none;\n",
              "    fill: var(--fill-color);\n",
              "    height: 32px;\n",
              "    padding: 0;\n",
              "    width: 32px;\n",
              "  }\n",
              "\n",
              "  .colab-df-quickchart:hover {\n",
              "    background-color: var(--hover-bg-color);\n",
              "    box-shadow: 0 1px 2px rgba(60, 64, 67, 0.3), 0 1px 3px 1px rgba(60, 64, 67, 0.15);\n",
              "    fill: var(--button-hover-fill-color);\n",
              "  }\n",
              "\n",
              "  .colab-df-quickchart-complete:disabled,\n",
              "  .colab-df-quickchart-complete:disabled:hover {\n",
              "    background-color: var(--disabled-bg-color);\n",
              "    fill: var(--disabled-fill-color);\n",
              "    box-shadow: none;\n",
              "  }\n",
              "\n",
              "  .colab-df-spinner {\n",
              "    border: 2px solid var(--fill-color);\n",
              "    border-color: transparent;\n",
              "    border-bottom-color: var(--fill-color);\n",
              "    animation:\n",
              "      spin 1s steps(1) infinite;\n",
              "  }\n",
              "\n",
              "  @keyframes spin {\n",
              "    0% {\n",
              "      border-color: transparent;\n",
              "      border-bottom-color: var(--fill-color);\n",
              "      border-left-color: var(--fill-color);\n",
              "    }\n",
              "    20% {\n",
              "      border-color: transparent;\n",
              "      border-left-color: var(--fill-color);\n",
              "      border-top-color: var(--fill-color);\n",
              "    }\n",
              "    30% {\n",
              "      border-color: transparent;\n",
              "      border-left-color: var(--fill-color);\n",
              "      border-top-color: var(--fill-color);\n",
              "      border-right-color: var(--fill-color);\n",
              "    }\n",
              "    40% {\n",
              "      border-color: transparent;\n",
              "      border-right-color: var(--fill-color);\n",
              "      border-top-color: var(--fill-color);\n",
              "    }\n",
              "    60% {\n",
              "      border-color: transparent;\n",
              "      border-right-color: var(--fill-color);\n",
              "    }\n",
              "    80% {\n",
              "      border-color: transparent;\n",
              "      border-right-color: var(--fill-color);\n",
              "      border-bottom-color: var(--fill-color);\n",
              "    }\n",
              "    90% {\n",
              "      border-color: transparent;\n",
              "      border-bottom-color: var(--fill-color);\n",
              "    }\n",
              "  }\n",
              "</style>\n",
              "\n",
              "      <script>\n",
              "        async function quickchart(key) {\n",
              "          const quickchartButtonEl =\n",
              "            document.querySelector('#' + key + ' button');\n",
              "          quickchartButtonEl.disabled = true;  // To prevent multiple clicks.\n",
              "          quickchartButtonEl.classList.add('colab-df-spinner');\n",
              "          try {\n",
              "            const charts = await google.colab.kernel.invokeFunction(\n",
              "                'suggestCharts', [key], {});\n",
              "          } catch (error) {\n",
              "            console.error('Error during call to suggestCharts:', error);\n",
              "          }\n",
              "          quickchartButtonEl.classList.remove('colab-df-spinner');\n",
              "          quickchartButtonEl.classList.add('colab-df-quickchart-complete');\n",
              "        }\n",
              "        (() => {\n",
              "          let quickchartButtonEl =\n",
              "            document.querySelector('#df-ea3af817-383a-4992-a0ea-3dd478e60944 button');\n",
              "          quickchartButtonEl.style.display =\n",
              "            google.colab.kernel.accessAllowed ? 'block' : 'none';\n",
              "        })();\n",
              "      </script>\n",
              "    </div>\n",
              "\n",
              "    </div>\n",
              "  </div>\n"
            ],
            "application/vnd.google.colaboratory.intrinsic+json": {
              "type": "dataframe",
              "variable_name": "toss_decision_by_season"
            }
          },
          "metadata": {},
          "execution_count": 15
        }
      ]
    },
    {
      "cell_type": "markdown",
      "source": [
        "### Toss Decision Variation Across Seasons\n",
        "\n",
        "- Grouped match data by `season` and `toss_decision`.\n",
        "- Counted the number of matches for each decision (bat or field) per season.\n",
        "- Used `unstack()` to reshape data for easier comparison.\n",
        "- Filled missing values with zero.\n",
        "\n",
        "**Output Observation**:  \n",
        "For each season, counts of matches where teams chose to bat or field after winning the toss are shown side by side.\n"
      ],
      "metadata": {
        "id": "OKjy9mNAwX0w"
      }
    },
    {
      "cell_type": "code",
      "source": [
        "'''\n",
        "unstack() is a function used to pivot the data\n",
        "It is primarily used in dataframes to have multiple index\n",
        "'''"
      ],
      "metadata": {
        "id": "8PtIUSxIjoqu",
        "colab": {
          "base_uri": "https://localhost:8080/",
          "height": 36
        },
        "outputId": "c5fc1b57-2ef0-49be-aa78-75fa62cd1362"
      },
      "execution_count": null,
      "outputs": [
        {
          "output_type": "execute_result",
          "data": {
            "text/plain": [
              "'\\nunstack() is a function used to pivot the data\\nIt is primarily used in dataframes to have multiple index\\n'"
            ],
            "application/vnd.google.colaboratory.intrinsic+json": {
              "type": "string"
            }
          },
          "metadata": {},
          "execution_count": 16
        }
      ]
    },
    {
      "cell_type": "code",
      "source": [
        "# Plot ->\n",
        "# Plot with adjusted legend position\n",
        "toss_decision_by_season.plot(kind='bar', stacked=True, colormap='Set2', figsize=(10,6))\n",
        "plt.title('Toss Decision Variation Across Seasons')\n",
        "plt.xlabel('Season')\n",
        "plt.ylabel('Count')\n",
        "plt.xticks(rotation=45)\n",
        "\n",
        "# Adjust legend to be outside the plot area\n",
        "plt.legend(bbox_to_anchor=(1.05, 1), loc='upper left', borderaxespad=0.)\n",
        "\n",
        "# Adjust layout to prevent legend overlap\n",
        "plt.tight_layout()\n",
        "plt.show()"
      ],
      "metadata": {
        "colab": {
          "base_uri": "https://localhost:8080/",
          "height": 734
        },
        "id": "dgpyXufIjotS",
        "outputId": "58643400-bb7e-4a94-ce30-d98cc2a18907"
      },
      "execution_count": null,
      "outputs": [
        {
          "output_type": "display_data",
          "data": {
            "text/plain": [
              "<Figure size 1000x600 with 1 Axes>"
            ],
            "image/png": "[encoded data removed]"
          },
          "metadata": {}
        }
      ]
    },
    {
      "cell_type": "markdown",
      "source": [
        "- The dataset tracks toss decisions (bat/field) across multiple seasons.\n",
        "\n",
        "- Each row represents a combination of a factor (like venue, team, umpire) with the toss decision.\n",
        "\n",
        "- The factors include match details (city, date, venue), team information (team1-5, toss_winner), and match outcomes (winner, result).\n",
        "\n",
        "- For each factor, both batting and fielding decisions are recorded."
      ],
      "metadata": {
        "id": "0ehlTftUxr9_"
      }
    },
    {
      "cell_type": "code",
      "source": [
        "# Question 8 -> Does winning the toss imply winning the game?\n",
        "matches_df['toss_win_match_win'] = (matches_df['toss_winner'] == matches_df['winner']).astype(int)\n",
        "toss_win_match_win_rate = matches_df['toss_win_match_win'].mean()\n",
        "print(toss_win_match_win_rate)"
      ],
      "metadata": {
        "colab": {
          "base_uri": "https://localhost:8080/"
        },
        "id": "0sFsbuJLlgUo",
        "outputId": "3051c325-e25d-4bb5-9d3b-a89b2c67e7d5"
      },
      "execution_count": null,
      "outputs": [
        {
          "output_type": "stream",
          "name": "stdout",
          "text": [
            "0.5122549019607843\n"
          ]
        }
      ]
    },
    {
      "cell_type": "markdown",
      "source": [
        "### Does Winning the Toss Mean Winning the Game?\n",
        "\n",
        "- Created a new column that marks `1` if the toss winner is also the match winner, otherwise `0`.\n",
        "- Calculated the average of this column to find the proportion of matches where the toss winner also won the game.\n",
        "\n",
        "**Output Observation**:  \n",
        "About 51.2% of the time, the team that won the toss also won the match.\n"
      ],
      "metadata": {
        "id": "dUkZGf8dx5Br"
      }
    },
    {
      "cell_type": "code",
      "source": [
        "# Plot\n",
        "plt.figure(figsize = (5, 5))\n",
        "toss_outcome_counts = matches_df['toss_win_match_win'].value_counts()\n",
        "toss_outcome_counts.index = ['Toss Won and Match Won', 'Toss Won and Match Lost']\n",
        "toss_outcome_counts.plot(kind = 'pie', autopct = '%.3f%%', startangle = 60, colors = ['g', 'r'])\n",
        "plt.tight_layout()\n",
        "plt.show()"
      ],
      "metadata": {
        "colab": {
          "base_uri": "https://localhost:8080/",
          "height": 245
        },
        "id": "U9HOysyelgXT",
        "outputId": "6cf520f4-bb0f-4826-b578-81798dae13c0"
      },
      "execution_count": null,
      "outputs": [
        {
          "output_type": "display_data",
          "data": {
            "text/plain": [
              "<Figure size 500x500 with 1 Axes>"
            ],
            "image/png": "[encoded data removed]"
          },
          "metadata": {}
        }
      ]
    },
    {
      "cell_type": "markdown",
      "source": [
        "- Toss Won and Match Won: Occurs 51.225% of the time.\n",
        "\n",
        "- Toss Won and Match Lost: Occurs 48.775% of the time.\n",
        "\n",
        "Key Observations:\n",
        "- The percentages are nearly balanced (~51% vs. ~49%).\n",
        "\n",
        "- Winning the toss gives only a slight advantage (1.45% difference) in match outcomes.\n",
        "\n",
        "- No strong correlation between toss victory and match victory is evident from this data alone."
      ],
      "metadata": {
        "id": "ApVoYO7MyTut"
      }
    },
    {
      "cell_type": "code",
      "source": [
        "# Question 9 -> How many times has the chasing team won the match?\n",
        "# We'll consider innings and match winners"
      ],
      "metadata": {
        "id": "pripY_6flgZ6"
      },
      "execution_count": null,
      "outputs": []
    },
    {
      "cell_type": "code",
      "source": [
        "matches_df.isnull().sum()"
      ],
      "metadata": {
        "colab": {
          "base_uri": "https://localhost:8080/",
          "height": 680
        },
        "id": "RLoPMS1flged",
        "outputId": "e4ea339c-c5c3-4c2a-dd82-8a5e3829de10"
      },
      "execution_count": null,
      "outputs": [
        {
          "output_type": "execute_result",
          "data": {
            "text/plain": [
              "id                      0\n",
              "city                   13\n",
              "date                    0\n",
              "player_of_match         4\n",
              "venue                   0\n",
              "neutral_venue           0\n",
              "team1                   0\n",
              "team2                   0\n",
              "toss_winner             0\n",
              "toss_decision           0\n",
              "winner                  4\n",
              "result                  4\n",
              "result_margin          17\n",
              "eliminator              4\n",
              "method                797\n",
              "umpire1                 0\n",
              "umpire2                 0\n",
              "season                  0\n",
              "toss_win_match_win      0\n",
              "dtype: int64"
            ],
            "text/html": [
              "<div>\n",
              "<style scoped>\n",
              "    .dataframe tbody tr th:only-of-type {\n",
              "        vertical-align: middle;\n",
              "    }\n",
              "\n",
              "    .dataframe tbody tr th {\n",
              "        vertical-align: top;\n",
              "    }\n",
              "\n",
              "    .dataframe thead th {\n",
              "        text-align: right;\n",
              "    }\n",
              "</style>\n",
              "<table border=\"1\" class=\"dataframe\">\n",
              "  <thead>\n",
              "    <tr style=\"text-align: right;\">\n",
              "      <th></th>\n",
              "      <th>0</th>\n",
              "    </tr>\n",
              "  </thead>\n",
              "  <tbody>\n",
              "    <tr>\n",
              "      <th>id</th>\n",
              "      <td>0</td>\n",
              "    </tr>\n",
              "    <tr>\n",
              "      <th>city</th>\n",
              "      <td>13</td>\n",
              "    </tr>\n",
              "    <tr>\n",
              "      <th>date</th>\n",
              "      <td>0</td>\n",
              "    </tr>\n",
              "    <tr>\n",
              "      <th>player_of_match</th>\n",
              "      <td>4</td>\n",
              "    </tr>\n",
              "    <tr>\n",
              "      <th>venue</th>\n",
              "      <td>0</td>\n",
              "    </tr>\n",
              "    <tr>\n",
              "      <th>neutral_venue</th>\n",
              "      <td>0</td>\n",
              "    </tr>\n",
              "    <tr>\n",
              "      <th>team1</th>\n",
              "      <td>0</td>\n",
              "    </tr>\n",
              "    <tr>\n",
              "      <th>team2</th>\n",
              "      <td>0</td>\n",
              "    </tr>\n",
              "    <tr>\n",
              "      <th>toss_winner</th>\n",
              "      <td>0</td>\n",
              "    </tr>\n",
              "    <tr>\n",
              "      <th>toss_decision</th>\n",
              "      <td>0</td>\n",
              "    </tr>\n",
              "    <tr>\n",
              "      <th>winner</th>\n",
              "      <td>4</td>\n",
              "    </tr>\n",
              "    <tr>\n",
              "      <th>result</th>\n",
              "      <td>4</td>\n",
              "    </tr>\n",
              "    <tr>\n",
              "      <th>result_margin</th>\n",
              "      <td>17</td>\n",
              "    </tr>\n",
              "    <tr>\n",
              "      <th>eliminator</th>\n",
              "      <td>4</td>\n",
              "    </tr>\n",
              "    <tr>\n",
              "      <th>method</th>\n",
              "      <td>797</td>\n",
              "    </tr>\n",
              "    <tr>\n",
              "      <th>umpire1</th>\n",
              "      <td>0</td>\n",
              "    </tr>\n",
              "    <tr>\n",
              "      <th>umpire2</th>\n",
              "      <td>0</td>\n",
              "    </tr>\n",
              "    <tr>\n",
              "      <th>season</th>\n",
              "      <td>0</td>\n",
              "    </tr>\n",
              "    <tr>\n",
              "      <th>toss_win_match_win</th>\n",
              "      <td>0</td>\n",
              "    </tr>\n",
              "  </tbody>\n",
              "</table>\n",
              "</div><br><label><b>dtype:</b> int64</label>"
            ]
          },
          "metadata": {},
          "execution_count": 21
        }
      ]
    },
    {
      "cell_type": "code",
      "source": [
        "# Removing NA values\n",
        "matches_df_clean = matches_df.dropna(subset=['winner', 'toss_winner', 'toss_decision'])"
      ],
      "metadata": {
        "id": "kj88yw9YuW1K"
      },
      "execution_count": null,
      "outputs": []
    },
    {
      "cell_type": "code",
      "source": [
        "chasing_win_condition = (\n",
        "    ((matches_df_clean['toss_decision'] == 'field') & (matches_df_clean['toss_winner'] == matches_df_clean['winner'])) |\n",
        "    ((matches_df_clean['toss_decision'] == 'bat') & (matches_df_clean['toss_winner'] != matches_df_clean['winner']))\n",
        ")\n",
        "print(chasing_win_condition.sum())"
      ],
      "metadata": {
        "colab": {
          "base_uri": "https://localhost:8080/"
        },
        "id": "EAuoyAUPlgcI",
        "outputId": "fd002acf-b0f7-42fb-8507-8b6416c1502c"
      },
      "execution_count": null,
      "outputs": [
        {
          "output_type": "stream",
          "name": "stdout",
          "text": [
            "447\n"
          ]
        }
      ]
    },
    {
      "cell_type": "markdown",
      "source": [
        "### Number of Matches Won by the Chasing Team\n",
        "\n",
        "- Cleaned data by removing rows with missing values in key columns.\n",
        "- Defined conditions where the chasing team wins:\n",
        "  - If toss decision is to field and toss winner also won the match.\n",
        "  - If toss decision is to bat and toss winner lost the match.\n",
        "- Counted how many matches satisfy these conditions.\n",
        "\n",
        "**Output Observation**:  \n",
        "The chasing team won 447 matches.\n"
      ],
      "metadata": {
        "id": "Q8GoDjsiy0dE"
      }
    },
    {
      "cell_type": "code",
      "source": [
        "# Question 10 -> Which all teams had won this tournament?\n",
        "# So, basically, we have to get the final match winner from each season\n",
        "final_matches = matches_df.sort_values('date').drop_duplicates('season', keep = 'last')\n",
        "tournament_winners = final_matches['winner'].value_counts()\n",
        "tournament_winners.index"
      ],
      "metadata": {
        "colab": {
          "base_uri": "https://localhost:8080/"
        },
        "id": "YiatQmjQgE-X",
        "outputId": "ab9eeb27-b6d5-4a74-e26b-8dea8d4d9c32"
      },
      "execution_count": null,
      "outputs": [
        {
          "output_type": "execute_result",
          "data": {
            "text/plain": [
              "Index(['Mumbai Indians', 'Chennai Super Kings', 'Kolkata Knight Riders',\n",
              "       'Rajasthan Royals', 'Deccan Chargers', 'Sunrisers Hyderabad'],\n",
              "      dtype='object', name='winner')"
            ]
          },
          "metadata": {},
          "execution_count": 24
        }
      ]
    },
    {
      "cell_type": "markdown",
      "source": [
        "###Teams That Have Won the Tournament\n",
        "\n",
        "- Sorted matches by date and kept only the last match of each season (the final).\n",
        "- Extracted the winners of these final matches.\n",
        "- Counted how many times each team won the tournament.\n",
        "\n",
        "**Output Observation**:  \n",
        "The tournament has been won by Mumbai Indians, Chennai Super Kings, Kolkata Knight Riders, Rajasthan Royals, Deccan Chargers, and Sunrisers Hyderabad.\n"
      ],
      "metadata": {
        "id": "22VmQQ9AzRwe"
      }
    },
    {
      "cell_type": "code",
      "source": [
        "# Question 11 -> Which team has played the most number of matches?\n",
        "matches_played = pd.concat([matches_df['team1'], matches_df['team2']]).value_counts()\n",
        "matches_played.head(1).index"
      ],
      "metadata": {
        "colab": {
          "base_uri": "https://localhost:8080/"
        },
        "id": "B-zEBNh-X-f6",
        "outputId": "948d8e04-d0f3-4bb2-a8da-3d5333c618a3"
      },
      "execution_count": null,
      "outputs": [
        {
          "output_type": "execute_result",
          "data": {
            "text/plain": [
              "Index(['Mumbai Indians'], dtype='object')"
            ]
          },
          "metadata": {},
          "execution_count": 25
        }
      ]
    },
    {
      "cell_type": "markdown",
      "source": [
        "### Team with the Most Matches Played\n",
        "\n",
        "- Combined `team1` and `team2` columns to count all matches played by each team.\n",
        "- Counted occurrences of each team to find the total matches played.\n",
        "\n",
        "**Output Observation**:  \n",
        "Mumbai Indians played the most matches.\n"
      ],
      "metadata": {
        "id": "UYyMnTV-zRWE"
      }
    },
    {
      "cell_type": "code",
      "source": [
        "# Question 12 -> Which team has won the most number of times?\n",
        "most_wins = matches_df['winner'].value_counts()\n",
        "most_wins.head(1).index"
      ],
      "metadata": {
        "colab": {
          "base_uri": "https://localhost:8080/"
        },
        "id": "CpWZNJ1AwAkW",
        "outputId": "4dddd041-11bf-4eb9-f1cd-3da2b4db92ec"
      },
      "execution_count": null,
      "outputs": [
        {
          "output_type": "execute_result",
          "data": {
            "text/plain": [
              "Index(['Mumbai Indians'], dtype='object', name='winner')"
            ]
          },
          "metadata": {},
          "execution_count": 26
        }
      ]
    },
    {
      "cell_type": "markdown",
      "source": [
        "### Team with the Most Wins\n",
        "\n",
        "- Counted how many matches each team has won using `value_counts()` on the `winner` column.\n",
        "\n",
        "**Output Observation**:  \n",
        "Mumbai Indians have won the most matches.\n"
      ],
      "metadata": {
        "id": "gmcdk1000E5i"
      }
    },
    {
      "cell_type": "code",
      "source": [
        "# Question 13 -> Which team has the highest winning percentage?\n",
        "total_matches_team = matches_df['team1'].value_counts().sort_index()\n",
        "wins_team = matches_df['winner'].value_counts().sort_index()\n",
        "wins_percentage = (wins_team / total_matches_team) * 100\n",
        "wins_percentage.idxmax()"
      ],
      "metadata": {
        "colab": {
          "base_uri": "https://localhost:8080/",
          "height": 36
        },
        "id": "q8JbcVFWwAm9",
        "outputId": "76167d78-437e-41c1-dc1d-13d6a5cc7eb9"
      },
      "execution_count": null,
      "outputs": [
        {
          "output_type": "execute_result",
          "data": {
            "text/plain": [
              "'Rising Pune Supergiant'"
            ],
            "application/vnd.google.colaboratory.intrinsic+json": {
              "type": "string"
            }
          },
          "metadata": {},
          "execution_count": 27
        }
      ]
    },
    {
      "cell_type": "code",
      "source": [
        "# Change 'Rising Pune Supergiant' to 'Rising Pune Supergiants'\n",
        "matches_df.replace('Rising Pune Supergiant', 'Rising Pune Supergiants', inplace=True)\n",
        "balls_df.replace('Rising Pune Supergiant', 'Rising Pune Supergiants', inplace=True)"
      ],
      "metadata": {
        "id": "on76SIHxwAph"
      },
      "execution_count": null,
      "outputs": []
    },
    {
      "cell_type": "markdown",
      "source": [
        "### Team with the Highest Winning Percentage\n",
        "\n",
        "- Calculated total matches played by each team using `team1` counts.\n",
        "- Calculated total wins for each team.\n",
        "- Computed winning percentage as (wins / total matches) × 100.\n",
        "- Found the team with the highest winning percentage using `idxmax()`.\n",
        "- Replaced inconsistent team name from 'Rising Pune Supergiant' to 'Rising Pune Supergiants' for consistency.\n",
        "\n",
        "**Output Observation**:  \n",
        "Rising Pune Supergiants have the highest winning percentage.\n"
      ],
      "metadata": {
        "id": "oc03lnbu0P6Q"
      }
    },
    {
      "cell_type": "code",
      "source": [
        "# Question 14 -> Is there any lucky venue for a particular team?\n",
        "lucky_venues = matches_df.groupby(['winner', 'venue']).size().reset_index(name = 'win_count')\n",
        "lucky_venues = lucky_venues.sort_values('win_count', ascending = False)\n",
        "lucky_venues_per_team = lucky_venues.groupby('winner').first().sort_values(by = 'win_count', ascending = False).reset_index()\n",
        "lucky_venues_per_team"
      ],
      "metadata": {
        "colab": {
          "base_uri": "https://localhost:8080/",
          "height": 488
        },
        "id": "I9vaMuF9wAr8",
        "outputId": "94c4d9c7-527d-4050-dcac-05016b6b938c"
      },
      "execution_count": null,
      "outputs": [
        {
          "output_type": "execute_result",
          "data": {
            "text/plain": [
              "                         winner                                       venue  \\\n",
              "0         Kolkata Knight Riders                                Eden Gardens   \n",
              "1                Mumbai Indians                            Wankhede Stadium   \n",
              "2           Chennai Super Kings             MA Chidambaram Stadium, Chepauk   \n",
              "3              Rajasthan Royals                      Sawai Mansingh Stadium   \n",
              "4           Sunrisers Hyderabad   Rajiv Gandhi International Stadium, Uppal   \n",
              "5   Royal Challengers Bangalore                       M Chinnaswamy Stadium   \n",
              "6              Delhi Daredevils                            Feroz Shah Kotla   \n",
              "7               Kings XI Punjab  Punjab Cricket Association Stadium, Mohali   \n",
              "8       Rising Pune Supergiants     Maharashtra Cricket Association Stadium   \n",
              "9                Delhi Capitals         Dubai International Cricket Stadium   \n",
              "10                Pune Warriors                  Subrata Roy Sahara Stadium   \n",
              "11              Deccan Chargers                            Barabati Stadium   \n",
              "12                Gujarat Lions      Saurashtra Cricket Association Stadium   \n",
              "13         Kochi Tuskers Kerala                               Nehru Stadium   \n",
              "\n",
              "    win_count  \n",
              "0          45  \n",
              "1          42  \n",
              "2          40  \n",
              "3          32  \n",
              "4          30  \n",
              "5          29  \n",
              "6          27  \n",
              "7          18  \n",
              "8           5  \n",
              "9           4  \n",
              "10          4  \n",
              "11          3  \n",
              "12          3  \n",
              "13          2  "
            ],
            "text/html": [
              "\n",
              "  <div id=\"df-a22532ef-5caa-42d7-8918-0b8eb93ffe7e\" class=\"colab-df-container\">\n",
              "    <div>\n",
              "<style scoped>\n",
              "    .dataframe tbody tr th:only-of-type {\n",
              "        vertical-align: middle;\n",
              "    }\n",
              "\n",
              "    .dataframe tbody tr th {\n",
              "        vertical-align: top;\n",
              "    }\n",
              "\n",
              "    .dataframe thead th {\n",
              "        text-align: right;\n",
              "    }\n",
              "</style>\n",
              "<table border=\"1\" class=\"dataframe\">\n",
              "  <thead>\n",
              "    <tr style=\"text-align: right;\">\n",
              "      <th></th>\n",
              "      <th>winner</th>\n",
              "      <th>venue</th>\n",
              "      <th>win_count</th>\n",
              "    </tr>\n",
              "  </thead>\n",
              "  <tbody>\n",
              "    <tr>\n",
              "      <th>0</th>\n",
              "      <td>Kolkata Knight Riders</td>\n",
              "      <td>Eden Gardens</td>\n",
              "      <td>45</td>\n",
              "    </tr>\n",
              "    <tr>\n",
              "      <th>1</th>\n",
              "      <td>Mumbai Indians</td>\n",
              "      <td>Wankhede Stadium</td>\n",
              "      <td>42</td>\n",
              "    </tr>\n",
              "    <tr>\n",
              "      <th>2</th>\n",
              "      <td>Chennai Super Kings</td>\n",
              "      <td>MA Chidambaram Stadium, Chepauk</td>\n",
              "      <td>40</td>\n",
              "    </tr>\n",
              "    <tr>\n",
              "      <th>3</th>\n",
              "      <td>Rajasthan Royals</td>\n",
              "      <td>Sawai Mansingh Stadium</td>\n",
              "      <td>32</td>\n",
              "    </tr>\n",
              "    <tr>\n",
              "      <th>4</th>\n",
              "      <td>Sunrisers Hyderabad</td>\n",
              "      <td>Rajiv Gandhi International Stadium, Uppal</td>\n",
              "      <td>30</td>\n",
              "    </tr>\n",
              "    <tr>\n",
              "      <th>5</th>\n",
              "      <td>Royal Challengers Bangalore</td>\n",
              "      <td>M Chinnaswamy Stadium</td>\n",
              "      <td>29</td>\n",
              "    </tr>\n",
              "    <tr>\n",
              "      <th>6</th>\n",
              "      <td>Delhi Daredevils</td>\n",
              "      <td>Feroz Shah Kotla</td>\n",
              "      <td>27</td>\n",
              "    </tr>\n",
              "    <tr>\n",
              "      <th>7</th>\n",
              "      <td>Kings XI Punjab</td>\n",
              "      <td>Punjab Cricket Association Stadium, Mohali</td>\n",
              "      <td>18</td>\n",
              "    </tr>\n",
              "    <tr>\n",
              "      <th>8</th>\n",
              "      <td>Rising Pune Supergiants</td>\n",
              "      <td>Maharashtra Cricket Association Stadium</td>\n",
              "      <td>5</td>\n",
              "    </tr>\n",
              "    <tr>\n",
              "      <th>9</th>\n",
              "      <td>Delhi Capitals</td>\n",
              "      <td>Dubai International Cricket Stadium</td>\n",
              "      <td>4</td>\n",
              "    </tr>\n",
              "    <tr>\n",
              "      <th>10</th>\n",
              "      <td>Pune Warriors</td>\n",
              "      <td>Subrata Roy Sahara Stadium</td>\n",
              "      <td>4</td>\n",
              "    </tr>\n",
              "    <tr>\n",
              "      <th>11</th>\n",
              "      <td>Deccan Chargers</td>\n",
              "      <td>Barabati Stadium</td>\n",
              "      <td>3</td>\n",
              "    </tr>\n",
              "    <tr>\n",
              "      <th>12</th>\n",
              "      <td>Gujarat Lions</td>\n",
              "      <td>Saurashtra Cricket Association Stadium</td>\n",
              "      <td>3</td>\n",
              "    </tr>\n",
              "    <tr>\n",
              "      <th>13</th>\n",
              "      <td>Kochi Tuskers Kerala</td>\n",
              "      <td>Nehru Stadium</td>\n",
              "      <td>2</td>\n",
              "    </tr>\n",
              "  </tbody>\n",
              "</table>\n",
              "</div>\n",
              "    <div class=\"colab-df-buttons\">\n",
              "\n",
              "  <div class=\"colab-df-container\">\n",
              "    <button class=\"colab-df-convert\" onclick=\"convertToInteractive('df-a22532ef-5caa-42d7-8918-0b8eb93ffe7e')\"\n",
              "            title=\"Convert this dataframe to an interactive table.\"\n",
              "            style=\"display:none;\">\n",
              "\n",
              "  <svg xmlns=\"http://www.w3.org/2000/svg\" height=\"24px\" viewBox=\"0 -960 960 960\">\n",
              "    <path d=\"M120-120v-720h720v720H120Zm60-500h600v-160H180v160Zm220 220h160v-160H400v160Zm0 220h160v-160H400v160ZM180-400h160v-160H180v160Zm440 0h160v-160H620v160ZM180-180h160v-160H180v160Zm440 0h160v-160H620v160Z\"/>\n",
              "  </svg>\n",
              "    </button>\n",
              "\n",
              "  <style>\n",
              "    .colab-df-container {\n",
              "      display:flex;\n",
              "      gap: 12px;\n",
              "    }\n",
              "\n",
              "    .colab-df-convert {\n",
              "      background-color: #E8F0FE;\n",
              "      border: none;\n",
              "      border-radius: 50%;\n",
              "      cursor: pointer;\n",
              "      display: none;\n",
              "      fill: #1967D2;\n",
              "      height: 32px;\n",
              "      padding: 0 0 0 0;\n",
              "      width: 32px;\n",
              "    }\n",
              "\n",
              "    .colab-df-convert:hover {\n",
              "      background-color: #E2EBFA;\n",
              "      box-shadow: 0px 1px 2px rgba(60, 64, 67, 0.3), 0px 1px 3px 1px rgba(60, 64, 67, 0.15);\n",
              "      fill: #174EA6;\n",
              "    }\n",
              "\n",
              "    .colab-df-buttons div {\n",
              "      margin-bottom: 4px;\n",
              "    }\n",
              "\n",
              "    [theme=dark] .colab-df-convert {\n",
              "      background-color: #3B4455;\n",
              "      fill: #D2E3FC;\n",
              "    }\n",
              "\n",
              "    [theme=dark] .colab-df-convert:hover {\n",
              "      background-color: #434B5C;\n",
              "      box-shadow: 0px 1px 3px 1px rgba(0, 0, 0, 0.15);\n",
              "      filter: drop-shadow(0px 1px 2px rgba(0, 0, 0, 0.3));\n",
              "      fill: #FFFFFF;\n",
              "    }\n",
              "  </style>\n",
              "\n",
              "    <script>\n",
              "      const buttonEl =\n",
              "        document.querySelector('#df-a22532ef-5caa-42d7-8918-0b8eb93ffe7e button.colab-df-convert');\n",
              "      buttonEl.style.display =\n",
              "        google.colab.kernel.accessAllowed ? 'block' : 'none';\n",
              "\n",
              "      async function convertToInteractive(key) {\n",
              "        const element = document.querySelector('#df-a22532ef-5caa-42d7-8918-0b8eb93ffe7e');\n",
              "        const dataTable =\n",
              "          await google.colab.kernel.invokeFunction('convertToInteractive',\n",
              "                                                    [key], {});\n",
              "        if (!dataTable) return;\n",
              "\n",
              "        const docLinkHtml = 'Like what you see? Visit the ' +\n",
              "          '<a target=\"_blank\" href=https://colab.research.google.com/notebooks/data_table.ipynb>data table notebook</a>'\n",
              "          + ' to learn more about interactive tables.';\n",
              "        element.innerHTML = '';\n",
              "        dataTable['output_type'] = 'display_data';\n",
              "        await google.colab.output.renderOutput(dataTable, element);\n",
              "        const docLink = document.createElement('div');\n",
              "        docLink.innerHTML = docLinkHtml;\n",
              "        element.appendChild(docLink);\n",
              "      }\n",
              "    </script>\n",
              "  </div>\n",
              "\n",
              "\n",
              "    <div id=\"df-5a866cd2-2ca6-4641-bfe3-5fe79786cfe7\">\n",
              "      <button class=\"colab-df-quickchart\" onclick=\"quickchart('df-5a866cd2-2ca6-4641-bfe3-5fe79786cfe7')\"\n",
              "                title=\"Suggest charts\"\n",
              "                style=\"display:none;\">\n",
              "\n",
              "<svg xmlns=\"http://www.w3.org/2000/svg\" height=\"24px\"viewBox=\"0 0 24 24\"\n",
              "     width=\"24px\">\n",
              "    <g>\n",
              "        <path d=\"M19 3H5c-1.1 0-2 .9-2 2v14c0 1.1.9 2 2 2h14c1.1 0 2-.9 2-2V5c0-1.1-.9-2-2-2zM9 17H7v-7h2v7zm4 0h-2V7h2v10zm4 0h-2v-4h2v4z\"/>\n",
              "    </g>\n",
              "</svg>\n",
              "      </button>\n",
              "\n",
              "<style>\n",
              "  .colab-df-quickchart {\n",
              "      --bg-color: #E8F0FE;\n",
              "      --fill-color: #1967D2;\n",
              "      --hover-bg-color: #E2EBFA;\n",
              "      --hover-fill-color: #174EA6;\n",
              "      --disabled-fill-color: #AAA;\n",
              "      --disabled-bg-color: #DDD;\n",
              "  }\n",
              "\n",
              "  [theme=dark] .colab-df-quickchart {\n",
              "      --bg-color: #3B4455;\n",
              "      --fill-color: #D2E3FC;\n",
              "      --hover-bg-color: #434B5C;\n",
              "      --hover-fill-color: #FFFFFF;\n",
              "      --disabled-bg-color: #3B4455;\n",
              "      --disabled-fill-color: #666;\n",
              "  }\n",
              "\n",
              "  .colab-df-quickchart {\n",
              "    background-color: var(--bg-color);\n",
              "    border: none;\n",
              "    border-radius: 50%;\n",
              "    cursor: pointer;\n",
              "    display: none;\n",
              "    fill: var(--fill-color);\n",
              "    height: 32px;\n",
              "    padding: 0;\n",
              "    width: 32px;\n",
              "  }\n",
              "\n",
              "  .colab-df-quickchart:hover {\n",
              "    background-color: var(--hover-bg-color);\n",
              "    box-shadow: 0 1px 2px rgba(60, 64, 67, 0.3), 0 1px 3px 1px rgba(60, 64, 67, 0.15);\n",
              "    fill: var(--button-hover-fill-color);\n",
              "  }\n",
              "\n",
              "  .colab-df-quickchart-complete:disabled,\n",
              "  .colab-df-quickchart-complete:disabled:hover {\n",
              "    background-color: var(--disabled-bg-color);\n",
              "    fill: var(--disabled-fill-color);\n",
              "    box-shadow: none;\n",
              "  }\n",
              "\n",
              "  .colab-df-spinner {\n",
              "    border: 2px solid var(--fill-color);\n",
              "    border-color: transparent;\n",
              "    border-bottom-color: var(--fill-color);\n",
              "    animation:\n",
              "      spin 1s steps(1) infinite;\n",
              "  }\n",
              "\n",
              "  @keyframes spin {\n",
              "    0% {\n",
              "      border-color: transparent;\n",
              "      border-bottom-color: var(--fill-color);\n",
              "      border-left-color: var(--fill-color);\n",
              "    }\n",
              "    20% {\n",
              "      border-color: transparent;\n",
              "      border-left-color: var(--fill-color);\n",
              "      border-top-color: var(--fill-color);\n",
              "    }\n",
              "    30% {\n",
              "      border-color: transparent;\n",
              "      border-left-color: var(--fill-color);\n",
              "      border-top-color: var(--fill-color);\n",
              "      border-right-color: var(--fill-color);\n",
              "    }\n",
              "    40% {\n",
              "      border-color: transparent;\n",
              "      border-right-color: var(--fill-color);\n",
              "      border-top-color: var(--fill-color);\n",
              "    }\n",
              "    60% {\n",
              "      border-color: transparent;\n",
              "      border-right-color: var(--fill-color);\n",
              "    }\n",
              "    80% {\n",
              "      border-color: transparent;\n",
              "      border-right-color: var(--fill-color);\n",
              "      border-bottom-color: var(--fill-color);\n",
              "    }\n",
              "    90% {\n",
              "      border-color: transparent;\n",
              "      border-bottom-color: var(--fill-color);\n",
              "    }\n",
              "  }\n",
              "</style>\n",
              "\n",
              "      <script>\n",
              "        async function quickchart(key) {\n",
              "          const quickchartButtonEl =\n",
              "            document.querySelector('#' + key + ' button');\n",
              "          quickchartButtonEl.disabled = true;  // To prevent multiple clicks.\n",
              "          quickchartButtonEl.classList.add('colab-df-spinner');\n",
              "          try {\n",
              "            const charts = await google.colab.kernel.invokeFunction(\n",
              "                'suggestCharts', [key], {});\n",
              "          } catch (error) {\n",
              "            console.error('Error during call to suggestCharts:', error);\n",
              "          }\n",
              "          quickchartButtonEl.classList.remove('colab-df-spinner');\n",
              "          quickchartButtonEl.classList.add('colab-df-quickchart-complete');\n",
              "        }\n",
              "        (() => {\n",
              "          let quickchartButtonEl =\n",
              "            document.querySelector('#df-5a866cd2-2ca6-4641-bfe3-5fe79786cfe7 button');\n",
              "          quickchartButtonEl.style.display =\n",
              "            google.colab.kernel.accessAllowed ? 'block' : 'none';\n",
              "        })();\n",
              "      </script>\n",
              "    </div>\n",
              "\n",
              "  <div id=\"id_80c6a205-2a94-421c-a6f0-ec5b43c54c4b\">\n",
              "    <style>\n",
              "      .colab-df-generate {\n",
              "        background-color: #E8F0FE;\n",
              "        border: none;\n",
              "        border-radius: 50%;\n",
              "        cursor: pointer;\n",
              "        display: none;\n",
              "        fill: #1967D2;\n",
              "        height: 32px;\n",
              "        padding: 0 0 0 0;\n",
              "        width: 32px;\n",
              "      }\n",
              "\n",
              "      .colab-df-generate:hover {\n",
              "        background-color: #E2EBFA;\n",
              "        box-shadow: 0px 1px 2px rgba(60, 64, 67, 0.3), 0px 1px 3px 1px rgba(60, 64, 67, 0.15);\n",
              "        fill: #174EA6;\n",
              "      }\n",
              "\n",
              "      [theme=dark] .colab-df-generate {\n",
              "        background-color: #3B4455;\n",
              "        fill: #D2E3FC;\n",
              "      }\n",
              "\n",
              "      [theme=dark] .colab-df-generate:hover {\n",
              "        background-color: #434B5C;\n",
              "        box-shadow: 0px 1px 3px 1px rgba(0, 0, 0, 0.15);\n",
              "        filter: drop-shadow(0px 1px 2px rgba(0, 0, 0, 0.3));\n",
              "        fill: #FFFFFF;\n",
              "      }\n",
              "    </style>\n",
              "    <button class=\"colab-df-generate\" onclick=\"generateWithVariable('lucky_venues_per_team')\"\n",
              "            title=\"Generate code using this dataframe.\"\n",
              "            style=\"display:none;\">\n",
              "\n",
              "  <svg xmlns=\"http://www.w3.org/2000/svg\" height=\"24px\"viewBox=\"0 0 24 24\"\n",
              "       width=\"24px\">\n",
              "    <path d=\"M7,19H8.4L18.45,9,17,7.55,7,17.6ZM5,21V16.75L18.45,3.32a2,2,0,0,1,2.83,0l1.4,1.43a1.91,1.91,0,0,1,.58,1.4,1.91,1.91,0,0,1-.58,1.4L9.25,21ZM18.45,9,17,7.55Zm-12,3A5.31,5.31,0,0,0,4.9,8.1,5.31,5.31,0,0,0,1,6.5,5.31,5.31,0,0,0,4.9,4.9,5.31,5.31,0,0,0,6.5,1,5.31,5.31,0,0,0,8.1,4.9,5.31,5.31,0,0,0,12,6.5,5.46,5.46,0,0,0,6.5,12Z\"/>\n",
              "  </svg>\n",
              "    </button>\n",
              "    <script>\n",
              "      (() => {\n",
              "      const buttonEl =\n",
              "        document.querySelector('#id_80c6a205-2a94-421c-a6f0-ec5b43c54c4b button.colab-df-generate');\n",
              "      buttonEl.style.display =\n",
              "        google.colab.kernel.accessAllowed ? 'block' : 'none';\n",
              "\n",
              "      buttonEl.onclick = () => {\n",
              "        google.colab.notebook.generateWithVariable('lucky_venues_per_team');\n",
              "      }\n",
              "      })();\n",
              "    </script>\n",
              "  </div>\n",
              "\n",
              "    </div>\n",
              "  </div>\n"
            ],
            "application/vnd.google.colaboratory.intrinsic+json": {
              "type": "dataframe",
              "variable_name": "lucky_venues_per_team",
              "summary": "{\n  \"name\": \"lucky_venues_per_team\",\n  \"rows\": 14,\n  \"fields\": [\n    {\n      \"column\": \"winner\",\n      \"properties\": {\n        \"dtype\": \"string\",\n        \"num_unique_values\": 14,\n        \"samples\": [\n          \"Delhi Capitals\",\n          \"Deccan Chargers\",\n          \"Kolkata Knight Riders\"\n        ],\n        \"semantic_type\": \"\",\n        \"description\": \"\"\n      }\n    },\n    {\n      \"column\": \"venue\",\n      \"properties\": {\n        \"dtype\": \"string\",\n        \"num_unique_values\": 14,\n        \"samples\": [\n          \"Dubai International Cricket Stadium\",\n          \"Barabati Stadium\",\n          \"Eden Gardens\"\n        ],\n        \"semantic_type\": \"\",\n        \"description\": \"\"\n      }\n    },\n    {\n      \"column\": \"win_count\",\n      \"properties\": {\n        \"dtype\": \"number\",\n        \"std\": 16,\n        \"min\": 2,\n        \"max\": 45,\n        \"num_unique_values\": 12,\n        \"samples\": [\n          3,\n          4,\n          45\n        ],\n        \"semantic_type\": \"\",\n        \"description\": \"\"\n      }\n    }\n  ]\n}"
            }
          },
          "metadata": {},
          "execution_count": 29
        }
      ]
    },
    {
      "cell_type": "markdown",
      "source": [
        "###  Lucky Venues for Teams\n",
        "\n",
        "- Grouped matches by `winner` and `venue` to count how many times each team won at each venue.\n",
        "- Sorted the counts in descending order to find the venue with the most wins per team.\n",
        "- Selected the top venue for each team as their \"lucky venue.\"\n",
        "\n",
        "**Output Observation**:  \n",
        "Each team’s venue where they have won the most matches is shown, e.g., Kolkata Knight Riders at Eden Gardens (45 wins), Mumbai Indians at Wankhede Stadium (42 wins), etc.\n"
      ],
      "metadata": {
        "id": "8-y0a3gS0bfh"
      }
    },
    {
      "cell_type": "code",
      "source": [
        "# Question 15 -> Innings wise comparison between teams\n",
        "innings_comparison = balls_df.groupby(['batting_team', 'inning'])['total_runs'].sum().unstack().fillna(0)\n",
        "innings_comparison"
      ],
      "metadata": {
        "colab": {
          "base_uri": "https://localhost:8080/",
          "height": 488
        },
        "id": "8Xf0bVm2wAuP",
        "outputId": "a4d7a4bd-a3f8-487b-c13c-b94fc8989f53"
      },
      "execution_count": null,
      "outputs": [
        {
          "output_type": "execute_result",
          "data": {
            "text/plain": [
              "inning                           1      2\n",
              "batting_team                             \n",
              "Chennai Super Kings          12693   8571\n",
              "Deccan Chargers               6765   4698\n",
              "Delhi Daredevils              9791  12377\n",
              "Gujarat Lions                 2267   2589\n",
              "Kings XI Punjab              12382  10922\n",
              "Kochi Tuskers Kerala          1009    892\n",
              "Kolkata Knight Riders        10744  11574\n",
              "Mumbai Indians               13699  11123\n",
              "Pune Warriors                 2973   3385\n",
              "Rajasthan Royals              8748   9198\n",
              "Rising Pune Supergiants       2427   2106\n",
              "Royal Challengers Bangalore  11881  11812\n",
              "Sunrisers Hyderabad           7396   4514"
            ],
            "text/html": [
              "\n",
              "  <div id=\"df-27677cd4-8de8-4f2e-ad6f-8afabbd28c94\" class=\"colab-df-container\">\n",
              "    <div>\n",
              "<style scoped>\n",
              "    .dataframe tbody tr th:only-of-type {\n",
              "        vertical-align: middle;\n",
              "    }\n",
              "\n",
              "    .dataframe tbody tr th {\n",
              "        vertical-align: top;\n",
              "    }\n",
              "\n",
              "    .dataframe thead th {\n",
              "        text-align: right;\n",
              "    }\n",
              "</style>\n",
              "<table border=\"1\" class=\"dataframe\">\n",
              "  <thead>\n",
              "    <tr style=\"text-align: right;\">\n",
              "      <th>inning</th>\n",
              "      <th>1</th>\n",
              "      <th>2</th>\n",
              "    </tr>\n",
              "    <tr>\n",
              "      <th>batting_team</th>\n",
              "      <th></th>\n",
              "      <th></th>\n",
              "    </tr>\n",
              "  </thead>\n",
              "  <tbody>\n",
              "    <tr>\n",
              "      <th>Chennai Super Kings</th>\n",
              "      <td>12693</td>\n",
              "      <td>8571</td>\n",
              "    </tr>\n",
              "    <tr>\n",
              "      <th>Deccan Chargers</th>\n",
              "      <td>6765</td>\n",
              "      <td>4698</td>\n",
              "    </tr>\n",
              "    <tr>\n",
              "      <th>Delhi Daredevils</th>\n",
              "      <td>9791</td>\n",
              "      <td>12377</td>\n",
              "    </tr>\n",
              "    <tr>\n",
              "      <th>Gujarat Lions</th>\n",
              "      <td>2267</td>\n",
              "      <td>2589</td>\n",
              "    </tr>\n",
              "    <tr>\n",
              "      <th>Kings XI Punjab</th>\n",
              "      <td>12382</td>\n",
              "      <td>10922</td>\n",
              "    </tr>\n",
              "    <tr>\n",
              "      <th>Kochi Tuskers Kerala</th>\n",
              "      <td>1009</td>\n",
              "      <td>892</td>\n",
              "    </tr>\n",
              "    <tr>\n",
              "      <th>Kolkata Knight Riders</th>\n",
              "      <td>10744</td>\n",
              "      <td>11574</td>\n",
              "    </tr>\n",
              "    <tr>\n",
              "      <th>Mumbai Indians</th>\n",
              "      <td>13699</td>\n",
              "      <td>11123</td>\n",
              "    </tr>\n",
              "    <tr>\n",
              "      <th>Pune Warriors</th>\n",
              "      <td>2973</td>\n",
              "      <td>3385</td>\n",
              "    </tr>\n",
              "    <tr>\n",
              "      <th>Rajasthan Royals</th>\n",
              "      <td>8748</td>\n",
              "      <td>9198</td>\n",
              "    </tr>\n",
              "    <tr>\n",
              "      <th>Rising Pune Supergiants</th>\n",
              "      <td>2427</td>\n",
              "      <td>2106</td>\n",
              "    </tr>\n",
              "    <tr>\n",
              "      <th>Royal Challengers Bangalore</th>\n",
              "      <td>11881</td>\n",
              "      <td>11812</td>\n",
              "    </tr>\n",
              "    <tr>\n",
              "      <th>Sunrisers Hyderabad</th>\n",
              "      <td>7396</td>\n",
              "      <td>4514</td>\n",
              "    </tr>\n",
              "  </tbody>\n",
              "</table>\n",
              "</div>\n",
              "    <div class=\"colab-df-buttons\">\n",
              "\n",
              "  <div class=\"colab-df-container\">\n",
              "    <button class=\"colab-df-convert\" onclick=\"convertToInteractive('df-27677cd4-8de8-4f2e-ad6f-8afabbd28c94')\"\n",
              "            title=\"Convert this dataframe to an interactive table.\"\n",
              "            style=\"display:none;\">\n",
              "\n",
              "  <svg xmlns=\"http://www.w3.org/2000/svg\" height=\"24px\" viewBox=\"0 -960 960 960\">\n",
              "    <path d=\"M120-120v-720h720v720H120Zm60-500h600v-160H180v160Zm220 220h160v-160H400v160Zm0 220h160v-160H400v160ZM180-400h160v-160H180v160Zm440 0h160v-160H620v160ZM180-180h160v-160H180v160Zm440 0h160v-160H620v160Z\"/>\n",
              "  </svg>\n",
              "    </button>\n",
              "\n",
              "  <style>\n",
              "    .colab-df-container {\n",
              "      display:flex;\n",
              "      gap: 12px;\n",
              "    }\n",
              "\n",
              "    .colab-df-convert {\n",
              "      background-color: #E8F0FE;\n",
              "      border: none;\n",
              "      border-radius: 50%;\n",
              "      cursor: pointer;\n",
              "      display: none;\n",
              "      fill: #1967D2;\n",
              "      height: 32px;\n",
              "      padding: 0 0 0 0;\n",
              "      width: 32px;\n",
              "    }\n",
              "\n",
              "    .colab-df-convert:hover {\n",
              "      background-color: #E2EBFA;\n",
              "      box-shadow: 0px 1px 2px rgba(60, 64, 67, 0.3), 0px 1px 3px 1px rgba(60, 64, 67, 0.15);\n",
              "      fill: #174EA6;\n",
              "    }\n",
              "\n",
              "    .colab-df-buttons div {\n",
              "      margin-bottom: 4px;\n",
              "    }\n",
              "\n",
              "    [theme=dark] .colab-df-convert {\n",
              "      background-color: #3B4455;\n",
              "      fill: #D2E3FC;\n",
              "    }\n",
              "\n",
              "    [theme=dark] .colab-df-convert:hover {\n",
              "      background-color: #434B5C;\n",
              "      box-shadow: 0px 1px 3px 1px rgba(0, 0, 0, 0.15);\n",
              "      filter: drop-shadow(0px 1px 2px rgba(0, 0, 0, 0.3));\n",
              "      fill: #FFFFFF;\n",
              "    }\n",
              "  </style>\n",
              "\n",
              "    <script>\n",
              "      const buttonEl =\n",
              "        document.querySelector('#df-27677cd4-8de8-4f2e-ad6f-8afabbd28c94 button.colab-df-convert');\n",
              "      buttonEl.style.display =\n",
              "        google.colab.kernel.accessAllowed ? 'block' : 'none';\n",
              "\n",
              "      async function convertToInteractive(key) {\n",
              "        const element = document.querySelector('#df-27677cd4-8de8-4f2e-ad6f-8afabbd28c94');\n",
              "        const dataTable =\n",
              "          await google.colab.kernel.invokeFunction('convertToInteractive',\n",
              "                                                    [key], {});\n",
              "        if (!dataTable) return;\n",
              "\n",
              "        const docLinkHtml = 'Like what you see? Visit the ' +\n",
              "          '<a target=\"_blank\" href=https://colab.research.google.com/notebooks/data_table.ipynb>data table notebook</a>'\n",
              "          + ' to learn more about interactive tables.';\n",
              "        element.innerHTML = '';\n",
              "        dataTable['output_type'] = 'display_data';\n",
              "        await google.colab.output.renderOutput(dataTable, element);\n",
              "        const docLink = document.createElement('div');\n",
              "        docLink.innerHTML = docLinkHtml;\n",
              "        element.appendChild(docLink);\n",
              "      }\n",
              "    </script>\n",
              "  </div>\n",
              "\n",
              "\n",
              "    <div id=\"df-264e6a39-790d-48a1-a4e9-c4ca7a5968f8\">\n",
              "      <button class=\"colab-df-quickchart\" onclick=\"quickchart('df-264e6a39-790d-48a1-a4e9-c4ca7a5968f8')\"\n",
              "                title=\"Suggest charts\"\n",
              "                style=\"display:none;\">\n",
              "\n",
              "<svg xmlns=\"http://www.w3.org/2000/svg\" height=\"24px\"viewBox=\"0 0 24 24\"\n",
              "     width=\"24px\">\n",
              "    <g>\n",
              "        <path d=\"M19 3H5c-1.1 0-2 .9-2 2v14c0 1.1.9 2 2 2h14c1.1 0 2-.9 2-2V5c0-1.1-.9-2-2-2zM9 17H7v-7h2v7zm4 0h-2V7h2v10zm4 0h-2v-4h2v4z\"/>\n",
              "    </g>\n",
              "</svg>\n",
              "      </button>\n",
              "\n",
              "<style>\n",
              "  .colab-df-quickchart {\n",
              "      --bg-color: #E8F0FE;\n",
              "      --fill-color: #1967D2;\n",
              "      --hover-bg-color: #E2EBFA;\n",
              "      --hover-fill-color: #174EA6;\n",
              "      --disabled-fill-color: #AAA;\n",
              "      --disabled-bg-color: #DDD;\n",
              "  }\n",
              "\n",
              "  [theme=dark] .colab-df-quickchart {\n",
              "      --bg-color: #3B4455;\n",
              "      --fill-color: #D2E3FC;\n",
              "      --hover-bg-color: #434B5C;\n",
              "      --hover-fill-color: #FFFFFF;\n",
              "      --disabled-bg-color: #3B4455;\n",
              "      --disabled-fill-color: #666;\n",
              "  }\n",
              "\n",
              "  .colab-df-quickchart {\n",
              "    background-color: var(--bg-color);\n",
              "    border: none;\n",
              "    border-radius: 50%;\n",
              "    cursor: pointer;\n",
              "    display: none;\n",
              "    fill: var(--fill-color);\n",
              "    height: 32px;\n",
              "    padding: 0;\n",
              "    width: 32px;\n",
              "  }\n",
              "\n",
              "  .colab-df-quickchart:hover {\n",
              "    background-color: var(--hover-bg-color);\n",
              "    box-shadow: 0 1px 2px rgba(60, 64, 67, 0.3), 0 1px 3px 1px rgba(60, 64, 67, 0.15);\n",
              "    fill: var(--button-hover-fill-color);\n",
              "  }\n",
              "\n",
              "  .colab-df-quickchart-complete:disabled,\n",
              "  .colab-df-quickchart-complete:disabled:hover {\n",
              "    background-color: var(--disabled-bg-color);\n",
              "    fill: var(--disabled-fill-color);\n",
              "    box-shadow: none;\n",
              "  }\n",
              "\n",
              "  .colab-df-spinner {\n",
              "    border: 2px solid var(--fill-color);\n",
              "    border-color: transparent;\n",
              "    border-bottom-color: var(--fill-color);\n",
              "    animation:\n",
              "      spin 1s steps(1) infinite;\n",
              "  }\n",
              "\n",
              "  @keyframes spin {\n",
              "    0% {\n",
              "      border-color: transparent;\n",
              "      border-bottom-color: var(--fill-color);\n",
              "      border-left-color: var(--fill-color);\n",
              "    }\n",
              "    20% {\n",
              "      border-color: transparent;\n",
              "      border-left-color: var(--fill-color);\n",
              "      border-top-color: var(--fill-color);\n",
              "    }\n",
              "    30% {\n",
              "      border-color: transparent;\n",
              "      border-left-color: var(--fill-color);\n",
              "      border-top-color: var(--fill-color);\n",
              "      border-right-color: var(--fill-color);\n",
              "    }\n",
              "    40% {\n",
              "      border-color: transparent;\n",
              "      border-right-color: var(--fill-color);\n",
              "      border-top-color: var(--fill-color);\n",
              "    }\n",
              "    60% {\n",
              "      border-color: transparent;\n",
              "      border-right-color: var(--fill-color);\n",
              "    }\n",
              "    80% {\n",
              "      border-color: transparent;\n",
              "      border-right-color: var(--fill-color);\n",
              "      border-bottom-color: var(--fill-color);\n",
              "    }\n",
              "    90% {\n",
              "      border-color: transparent;\n",
              "      border-bottom-color: var(--fill-color);\n",
              "    }\n",
              "  }\n",
              "</style>\n",
              "\n",
              "      <script>\n",
              "        async function quickchart(key) {\n",
              "          const quickchartButtonEl =\n",
              "            document.querySelector('#' + key + ' button');\n",
              "          quickchartButtonEl.disabled = true;  // To prevent multiple clicks.\n",
              "          quickchartButtonEl.classList.add('colab-df-spinner');\n",
              "          try {\n",
              "            const charts = await google.colab.kernel.invokeFunction(\n",
              "                'suggestCharts', [key], {});\n",
              "          } catch (error) {\n",
              "            console.error('Error during call to suggestCharts:', error);\n",
              "          }\n",
              "          quickchartButtonEl.classList.remove('colab-df-spinner');\n",
              "          quickchartButtonEl.classList.add('colab-df-quickchart-complete');\n",
              "        }\n",
              "        (() => {\n",
              "          let quickchartButtonEl =\n",
              "            document.querySelector('#df-264e6a39-790d-48a1-a4e9-c4ca7a5968f8 button');\n",
              "          quickchartButtonEl.style.display =\n",
              "            google.colab.kernel.accessAllowed ? 'block' : 'none';\n",
              "        })();\n",
              "      </script>\n",
              "    </div>\n",
              "\n",
              "  <div id=\"id_c988dc07-7707-4f8e-93cb-d66b8eb1f472\">\n",
              "    <style>\n",
              "      .colab-df-generate {\n",
              "        background-color: #E8F0FE;\n",
              "        border: none;\n",
              "        border-radius: 50%;\n",
              "        cursor: pointer;\n",
              "        display: none;\n",
              "        fill: #1967D2;\n",
              "        height: 32px;\n",
              "        padding: 0 0 0 0;\n",
              "        width: 32px;\n",
              "      }\n",
              "\n",
              "      .colab-df-generate:hover {\n",
              "        background-color: #E2EBFA;\n",
              "        box-shadow: 0px 1px 2px rgba(60, 64, 67, 0.3), 0px 1px 3px 1px rgba(60, 64, 67, 0.15);\n",
              "        fill: #174EA6;\n",
              "      }\n",
              "\n",
              "      [theme=dark] .colab-df-generate {\n",
              "        background-color: #3B4455;\n",
              "        fill: #D2E3FC;\n",
              "      }\n",
              "\n",
              "      [theme=dark] .colab-df-generate:hover {\n",
              "        background-color: #434B5C;\n",
              "        box-shadow: 0px 1px 3px 1px rgba(0, 0, 0, 0.15);\n",
              "        filter: drop-shadow(0px 1px 2px rgba(0, 0, 0, 0.3));\n",
              "        fill: #FFFFFF;\n",
              "      }\n",
              "    </style>\n",
              "    <button class=\"colab-df-generate\" onclick=\"generateWithVariable('innings_comparison')\"\n",
              "            title=\"Generate code using this dataframe.\"\n",
              "            style=\"display:none;\">\n",
              "\n",
              "  <svg xmlns=\"http://www.w3.org/2000/svg\" height=\"24px\"viewBox=\"0 0 24 24\"\n",
              "       width=\"24px\">\n",
              "    <path d=\"M7,19H8.4L18.45,9,17,7.55,7,17.6ZM5,21V16.75L18.45,3.32a2,2,0,0,1,2.83,0l1.4,1.43a1.91,1.91,0,0,1,.58,1.4,1.91,1.91,0,0,1-.58,1.4L9.25,21ZM18.45,9,17,7.55Zm-12,3A5.31,5.31,0,0,0,4.9,8.1,5.31,5.31,0,0,0,1,6.5,5.31,5.31,0,0,0,4.9,4.9,5.31,5.31,0,0,0,6.5,1,5.31,5.31,0,0,0,8.1,4.9,5.31,5.31,0,0,0,12,6.5,5.46,5.46,0,0,0,6.5,12Z\"/>\n",
              "  </svg>\n",
              "    </button>\n",
              "    <script>\n",
              "      (() => {\n",
              "      const buttonEl =\n",
              "        document.querySelector('#id_c988dc07-7707-4f8e-93cb-d66b8eb1f472 button.colab-df-generate');\n",
              "      buttonEl.style.display =\n",
              "        google.colab.kernel.accessAllowed ? 'block' : 'none';\n",
              "\n",
              "      buttonEl.onclick = () => {\n",
              "        google.colab.notebook.generateWithVariable('innings_comparison');\n",
              "      }\n",
              "      })();\n",
              "    </script>\n",
              "  </div>\n",
              "\n",
              "    </div>\n",
              "  </div>\n"
            ],
            "application/vnd.google.colaboratory.intrinsic+json": {
              "type": "dataframe",
              "variable_name": "innings_comparison",
              "summary": "{\n  \"name\": \"innings_comparison\",\n  \"rows\": 13,\n  \"fields\": [\n    {\n      \"column\": \"batting_team\",\n      \"properties\": {\n        \"dtype\": \"string\",\n        \"num_unique_values\": 13,\n        \"samples\": [\n          \"Royal Challengers Bangalore\",\n          \"Rajasthan Royals\",\n          \"Chennai Super Kings\"\n        ],\n        \"semantic_type\": \"\",\n        \"description\": \"\"\n      }\n    },\n    {\n      \"column\": 1,\n      \"properties\": {\n        \"dtype\": \"number\",\n        \"std\": 4471,\n        \"min\": 1009,\n        \"max\": 13699,\n        \"num_unique_values\": 13,\n        \"samples\": [\n          11881,\n          8748,\n          12693\n        ],\n        \"semantic_type\": \"\",\n        \"description\": \"\"\n      }\n    },\n    {\n      \"column\": 2,\n      \"properties\": {\n        \"dtype\": \"number\",\n        \"std\": 4255,\n        \"min\": 892,\n        \"max\": 12377,\n        \"num_unique_values\": 13,\n        \"samples\": [\n          11812,\n          9198,\n          8571\n        ],\n        \"semantic_type\": \"\",\n        \"description\": \"\"\n      }\n    }\n  ]\n}"
            }
          },
          "metadata": {},
          "execution_count": 30
        }
      ]
    },
    {
      "cell_type": "markdown",
      "source": [
        "### Innings-wise Runs Comparison Between Teams\n",
        "\n",
        "- Grouped ball-by-ball data by `batting_team` and `inning`.\n",
        "- Summed total runs scored by each team in the 1st and 2nd innings.\n",
        "- Reshaped data so innings are columns, teams are rows.\n",
        "\n",
        "**Output Observation**:  \n",
        "Runs scored by each team in innings 1 and 2 are shown side by side, e.g., Chennai Super Kings scored 12,693 in the 1st innings and 8,571 in the 2nd.\n"
      ],
      "metadata": {
        "id": "pwrjqQ220idb"
      }
    },
    {
      "cell_type": "code",
      "source": [
        "# Question 16 -> Which team has scored the most number of 200+ scores?\n",
        "team_total_runs = balls_df.groupby(['id', 'batting_team'])['total_runs'].sum().reset_index()\n",
        "team_total_runs = team_total_runs[team_total_runs['total_runs'] >= 200]\n",
        "team_total_runs['batting_team'].value_counts().idxmax()"
      ],
      "metadata": {
        "colab": {
          "base_uri": "https://localhost:8080/",
          "height": 36
        },
        "id": "mOztB5ihwAw3",
        "outputId": "a28d94a1-bc0c-42e9-ded6-5f7131def37d"
      },
      "execution_count": null,
      "outputs": [
        {
          "output_type": "execute_result",
          "data": {
            "text/plain": [
              "'Chennai Super Kings'"
            ],
            "application/vnd.google.colaboratory.intrinsic+json": {
              "type": "string"
            }
          },
          "metadata": {},
          "execution_count": 31
        }
      ]
    },
    {
      "cell_type": "markdown",
      "source": [
        "### Team with the Most 200+ Scores\n",
        "\n",
        "- Calculated total runs scored by each team in each match.\n",
        "- Filtered innings where the team scored 200 or more runs.\n",
        "- Counted how many times each team scored 200+ and found the team with the highest count.\n",
        "\n",
        "**Output Observation**:  \n",
        "Chennai Super Kings have scored 200 or more runs the most times.\n"
      ],
      "metadata": {
        "id": "sn2pNUSb0i60"
      }
    },
    {
      "cell_type": "code",
      "source": [
        "# Question 17 -> Which team has conceded 200+ scores the most?\n",
        "team_200plus_against = balls_df.groupby(['id', 'bowling_team'])['total_runs'].sum().reset_index()\n",
        "team_200plus_against = team_200plus_against[team_200plus_against['total_runs'] >= 200]\n",
        "team_200plus_against['bowling_team'].value_counts().idxmax()"
      ],
      "metadata": {
        "colab": {
          "base_uri": "https://localhost:8080/",
          "height": 36
        },
        "id": "50fqJz-DwAzR",
        "outputId": "652dddfd-17cc-4080-cecb-7958b50e2c8d"
      },
      "execution_count": null,
      "outputs": [
        {
          "output_type": "execute_result",
          "data": {
            "text/plain": [
              "'Kings XI Punjab'"
            ],
            "application/vnd.google.colaboratory.intrinsic+json": {
              "type": "string"
            }
          },
          "metadata": {},
          "execution_count": 32
        }
      ]
    },
    {
      "cell_type": "markdown",
      "source": [
        "### Team That Has Conceded 200+ Scores the Most\n",
        "\n",
        "- Calculated total runs conceded by each bowling team in each match.\n",
        "- Filtered matches where the bowling team conceded 200 or more runs.\n",
        "- Counted how many times each team conceded 200+ and found the team with the highest count.\n",
        "\n",
        "**Output Observation**:  \n",
        "Kings XI Punjab have conceded 200 or more runs the most times.\n"
      ],
      "metadata": {
        "id": "Y7yVtD-k00zg"
      }
    },
    {
      "cell_type": "code",
      "source": [
        "# Question 18 -> What was the highest run scored by a team in a single match?\n",
        "highest_team_score = team_total_runs.sort_values('total_runs', ascending = False)['batting_team'].head(1)\n",
        "highest_team_score.values[0]"
      ],
      "metadata": {
        "colab": {
          "base_uri": "https://localhost:8080/",
          "height": 36
        },
        "id": "XG9SozRA5A97",
        "outputId": "8b3c48ee-4660-4857-bf26-cb260b68bea3"
      },
      "execution_count": null,
      "outputs": [
        {
          "output_type": "execute_result",
          "data": {
            "text/plain": [
              "'Royal Challengers Bangalore'"
            ],
            "application/vnd.google.colaboratory.intrinsic+json": {
              "type": "string"
            }
          },
          "metadata": {},
          "execution_count": 33
        }
      ]
    },
    {
      "cell_type": "markdown",
      "source": [
        "### Highest Runs Scored by a Team in a Single Match\n",
        "\n",
        "- Sorted total runs scored by teams in matches in descending order.\n",
        "- Selected the team with the highest single-match total runs.\n",
        "\n",
        "**Output Observation**:  \n",
        "Royal Challengers Bangalore scored the highest runs in a single match.\n"
      ],
      "metadata": {
        "id": "oi-i2zp409L0"
      }
    },
    {
      "cell_type": "code",
      "source": [
        "# Question 19 -> Which is the biggest win in terms of run margin?\n",
        "biggest_run_margin_win = matches_df[matches_df['result'] == 'runs'].sort_values(by = 'result_margin', ascending = False)['winner']\n",
        "biggest_run_margin_win.head(1).values"
      ],
      "metadata": {
        "colab": {
          "base_uri": "https://localhost:8080/"
        },
        "id": "BTWn0IS85BA0",
        "outputId": "611ee753-be5c-4fb2-d29f-00ca2fa588eb"
      },
      "execution_count": null,
      "outputs": [
        {
          "output_type": "execute_result",
          "data": {
            "text/plain": [
              "array(['Mumbai Indians'], dtype=object)"
            ]
          },
          "metadata": {},
          "execution_count": 34
        }
      ]
    },
    {
      "cell_type": "markdown",
      "source": [
        "### Biggest Win by Run Margin\n",
        "\n",
        "- Filtered matches won by runs.\n",
        "- Sorted these matches by `result_margin` in descending order.\n",
        "- Selected the team that won by the largest run margin.\n",
        "\n",
        "**Output Observation**:  \n",
        "Mumbai Indians had the biggest win in terms of run margin.\n"
      ],
      "metadata": {
        "id": "jWEh0tXA1LY5"
      }
    },
    {
      "cell_type": "code",
      "source": [
        "# Question 20 -> Which batsmen have played the most number of balls?\n",
        "balls_played = balls_df['batsman'].value_counts()\n",
        "balls_played.head(1).index"
      ],
      "metadata": {
        "colab": {
          "base_uri": "https://localhost:8080/"
        },
        "id": "78xAHH8fRuwe",
        "outputId": "a52038d4-bbfe-4b90-b040-f808146a0428"
      },
      "execution_count": null,
      "outputs": [
        {
          "output_type": "execute_result",
          "data": {
            "text/plain": [
              "Index(['V Kohli'], dtype='object', name='batsman')"
            ]
          },
          "metadata": {},
          "execution_count": 35
        }
      ]
    },
    {
      "cell_type": "markdown",
      "source": [
        "### Batsman Who Played the Most Balls\n",
        "\n",
        "- Counted the number of balls faced by each batsman using `value_counts()` on the `batsman` column.\n",
        "\n",
        "**Output Observation**:  \n",
        "V Kohli has played the most balls.\n"
      ],
      "metadata": {
        "id": "YzigjnuL1TtT"
      }
    },
    {
      "cell_type": "code",
      "source": [
        "# Question 20 -> Which batsmen have played the most number of balls?\n",
        "balls_played = balls_df.groupby('batsman').size().sort_values(ascending = False).head(1)\n",
        "balls_played.index"
      ],
      "metadata": {
        "colab": {
          "base_uri": "https://localhost:8080/"
        },
        "id": "nzs0DcVqRuzO",
        "outputId": "31a3aebe-5ead-4b52-9c07-8aa6dbb5a8c2"
      },
      "execution_count": null,
      "outputs": [
        {
          "output_type": "execute_result",
          "data": {
            "text/plain": [
              "Index(['V Kohli'], dtype='object', name='batsman')"
            ]
          },
          "metadata": {},
          "execution_count": 36
        }
      ]
    },
    {
      "cell_type": "markdown",
      "source": [
        "### Batsman Who Played the Most Balls\n",
        "\n",
        "- Counted the number of balls faced by each batsman using `groupby` and `size()`.\n",
        "- Sorted in descending order and selected the top batsman.\n",
        "\n",
        "**Output Observation**:  \n",
        "V Kohli has played the most balls.\n"
      ],
      "metadata": {
        "id": "whLeW64C1dxc"
      }
    },
    {
      "cell_type": "code",
      "source": [
        "# Excluding wide balls\n",
        "# Question 20 -> Which batsmen have played the most number of balls?\n",
        "balls_played = balls_df[balls_df['extra_runs'] == 0]['batsman'].value_counts()\n",
        "balls_played.head(1).index"
      ],
      "metadata": {
        "colab": {
          "base_uri": "https://localhost:8080/"
        },
        "id": "vUAVayKhRu1y",
        "outputId": "d7440023-0f4b-473c-eb39-fbb133b95a18"
      },
      "execution_count": null,
      "outputs": [
        {
          "output_type": "execute_result",
          "data": {
            "text/plain": [
              "Index(['V Kohli'], dtype='object', name='batsman')"
            ]
          },
          "metadata": {},
          "execution_count": 37
        }
      ]
    },
    {
      "cell_type": "markdown",
      "source": [
        "### Batsman Who Played the Most Balls (Excluding Wide Balls)\n",
        "\n",
        "- Filtered ball data to exclude wide balls (`extra_runs == 0`).\n",
        "- Counted the number of valid balls faced by each batsman.\n",
        "- Selected the batsman with the highest count.\n",
        "\n",
        "**Output Observation**:  \n",
        "V Kohli has played the most balls excluding wides.\n"
      ],
      "metadata": {
        "id": "WTGLF3A414Dm"
      }
    },
    {
      "cell_type": "code",
      "source": [
        "# Question 21 -> Who are the leading run-scorers of all time?\n",
        "run_scorers = balls_df.groupby('batsman')['batsman_runs'].sum().sort_values(ascending = False)\n",
        "run_scorers.head(10)"
      ],
      "metadata": {
        "colab": {
          "base_uri": "https://localhost:8080/",
          "height": 429
        },
        "id": "mPjPC4dXRu4d",
        "outputId": "32c9e280-8d4b-4c5c-869a-7ae9de5a9cb0"
      },
      "execution_count": null,
      "outputs": [
        {
          "output_type": "execute_result",
          "data": {
            "text/plain": [
              "batsman\n",
              "SK Raina          4558\n",
              "V Kohli           4449\n",
              "RG Sharma         4233\n",
              "G Gambhir         4187\n",
              "DA Warner         4014\n",
              "RV Uthappa        3820\n",
              "S Dhawan          3684\n",
              "CH Gayle          3626\n",
              "MS Dhoni          3591\n",
              "AB de Villiers    3573\n",
              "Name: batsman_runs, dtype: int64"
            ],
            "text/html": [
              "<div>\n",
              "<style scoped>\n",
              "    .dataframe tbody tr th:only-of-type {\n",
              "        vertical-align: middle;\n",
              "    }\n",
              "\n",
              "    .dataframe tbody tr th {\n",
              "        vertical-align: top;\n",
              "    }\n",
              "\n",
              "    .dataframe thead th {\n",
              "        text-align: right;\n",
              "    }\n",
              "</style>\n",
              "<table border=\"1\" class=\"dataframe\">\n",
              "  <thead>\n",
              "    <tr style=\"text-align: right;\">\n",
              "      <th></th>\n",
              "      <th>batsman_runs</th>\n",
              "    </tr>\n",
              "    <tr>\n",
              "      <th>batsman</th>\n",
              "      <th></th>\n",
              "    </tr>\n",
              "  </thead>\n",
              "  <tbody>\n",
              "    <tr>\n",
              "      <th>SK Raina</th>\n",
              "      <td>4558</td>\n",
              "    </tr>\n",
              "    <tr>\n",
              "      <th>V Kohli</th>\n",
              "      <td>4449</td>\n",
              "    </tr>\n",
              "    <tr>\n",
              "      <th>RG Sharma</th>\n",
              "      <td>4233</td>\n",
              "    </tr>\n",
              "    <tr>\n",
              "      <th>G Gambhir</th>\n",
              "      <td>4187</td>\n",
              "    </tr>\n",
              "    <tr>\n",
              "      <th>DA Warner</th>\n",
              "      <td>4014</td>\n",
              "    </tr>\n",
              "    <tr>\n",
              "      <th>RV Uthappa</th>\n",
              "      <td>3820</td>\n",
              "    </tr>\n",
              "    <tr>\n",
              "      <th>S Dhawan</th>\n",
              "      <td>3684</td>\n",
              "    </tr>\n",
              "    <tr>\n",
              "      <th>CH Gayle</th>\n",
              "      <td>3626</td>\n",
              "    </tr>\n",
              "    <tr>\n",
              "      <th>MS Dhoni</th>\n",
              "      <td>3591</td>\n",
              "    </tr>\n",
              "    <tr>\n",
              "      <th>AB de Villiers</th>\n",
              "      <td>3573</td>\n",
              "    </tr>\n",
              "  </tbody>\n",
              "</table>\n",
              "</div><br><label><b>dtype:</b> int64</label>"
            ]
          },
          "metadata": {},
          "execution_count": 38
        }
      ]
    },
    {
      "cell_type": "markdown",
      "source": [
        "### Leading Run-Scorers of All Time\n",
        "\n",
        "- Grouped ball data by `batsman` and summed their runs.\n",
        "- Sorted the totals in descending order.\n",
        "- Displayed the top 10 run-scorers.\n",
        "\n",
        "**Output Observation**:  \n",
        "SK Raina leads with 4,558 runs, followed by V Kohli with 4,449 runs, and RG Sharma with 4,233 runs.\n"
      ],
      "metadata": {
        "id": "UrMMF8hC17Nx"
      }
    },
    {
      "cell_type": "code",
      "source": [
        "# Plot\n",
        "plt.figure(figsize = (9, 3))\n",
        "sns.barplot(x = run_scorers.index[:10], y = run_scorers.values[:10])\n",
        "plt.title('Top 10 Run-scorers of All Time')\n",
        "plt.xlabel('Batsman')\n",
        "plt.ylabel('Total Runs')\n",
        "plt.xticks(rotation = 45)\n",
        "plt.tight_layout()\n",
        "plt.show()"
      ],
      "metadata": {
        "colab": {
          "base_uri": "https://localhost:8080/",
          "height": 307
        },
        "id": "_02lpF8rRu7D",
        "outputId": "9a5ad622-529d-4a90-a9f2-8e4a94298b6f"
      },
      "execution_count": null,
      "outputs": [
        {
          "output_type": "display_data",
          "data": {
            "text/plain": [
              "<Figure size 900x300 with 1 Axes>"
            ],
            "image/png": "[encoded data removed]"
          },
          "metadata": {}
        }
      ]
    },
    {
      "cell_type": "markdown",
      "source": [
        "- When toss was won, the team won the match 51.225% of the time.\n",
        "\n",
        "- When toss was won, the team lost the match 48.775% of the time.\n",
        "\n",
        "- The difference is small (~2.45%), suggesting that winning the toss provides only a slight advantage in match outcomes."
      ],
      "metadata": {
        "id": "cy4dQWlc25-q"
      }
    },
    {
      "cell_type": "code",
      "source": [
        "# Question 22 -> Who has hit the most number of 4's?\n",
        "fours = balls_df[((balls_df['batsman_runs'] == 4) | (balls_df['batsman_runs'] == 5)) & (balls_df['non_boundary'] == 0)].groupby('batsman')['batsman_runs'].count().sort_values(ascending = False)\n",
        "fours.head(1).index"
      ],
      "metadata": {
        "colab": {
          "base_uri": "https://localhost:8080/"
        },
        "id": "mb5QVk2KRu9s",
        "outputId": "2a4bf5c1-9501-4a62-f0bb-1b52f8468174"
      },
      "execution_count": null,
      "outputs": [
        {
          "output_type": "execute_result",
          "data": {
            "text/plain": [
              "Index(['G Gambhir'], dtype='object', name='batsman')"
            ]
          },
          "metadata": {},
          "execution_count": 40
        }
      ]
    },
    {
      "cell_type": "markdown",
      "source": [
        "###  Batsman with the Most Number of 4s\n",
        "\n",
        "- Filtered balls where the batsman scored 4 or 5 runs through boundaries (non_boundary = 0).\n",
        "- Counted the number of such deliveries per batsman.\n",
        "- Sorted the counts in descending order to find the top.\n",
        "\n",
        "**Output Observation**:  \n",
        "G Gambhir has hit the most number of 4s.\n"
      ],
      "metadata": {
        "id": "wa40XW1n2MN4"
      }
    },
    {
      "cell_type": "code",
      "source": [
        "# Plot\n",
        "plt.figure(figsize = (9, 3))\n",
        "sns.barplot(x = fours.index[:10], y = fours.values[:10])\n",
        "plt.title('Top 10 Batsman having highest 4s of All Time')\n",
        "plt.xlabel('Batsman')\n",
        "plt.ylabel('Number of 4s')\n",
        "plt.xticks(rotation = 45)\n",
        "plt.tight_layout()\n",
        "plt.show()"
      ],
      "metadata": {
        "colab": {
          "base_uri": "https://localhost:8080/",
          "height": 307
        },
        "id": "j0tR8I03XaZY",
        "outputId": "ef39a6c5-5080-4565-91ab-6b5c9742a31e"
      },
      "execution_count": null,
      "outputs": [
        {
          "output_type": "display_data",
          "data": {
            "text/plain": [
              "<Figure size 900x300 with 1 Axes>"
            ],
            "image/png": "[encoded data removed]"
          },
          "metadata": {}
        }
      ]
    },
    {
      "cell_type": "markdown",
      "source": [
        "- Gambhir leads with the highest number of 4s (~400), followed by S Dhawan and SK Raina.\n",
        "\n",
        "- V Kohli, DA Warner, and Ro Sharma are in the middle range (~200–300 4s).\n",
        "\n",
        "- The lowest in the top 10 (PR Patel, AM Rahane, V Sehwag) have around 100–200 4s."
      ],
      "metadata": {
        "id": "tee7jtDz3BXB"
      }
    },
    {
      "cell_type": "code",
      "source": [
        "# Question 23 -> Who has hit the most number of 6's?\n",
        "sixs = balls_df[(balls_df['batsman_runs'] >= 6)]['batsman'].value_counts()\n",
        "sixs.head(1).index"
      ],
      "metadata": {
        "colab": {
          "base_uri": "https://localhost:8080/"
        },
        "id": "byiA7iP_WDrG",
        "outputId": "b9468fb4-a47e-464d-9bdf-020907cd49b2"
      },
      "execution_count": null,
      "outputs": [
        {
          "output_type": "execute_result",
          "data": {
            "text/plain": [
              "Index(['CH Gayle'], dtype='object', name='batsman')"
            ]
          },
          "metadata": {},
          "execution_count": 42
        }
      ]
    },
    {
      "cell_type": "markdown",
      "source": [
        "### Batsman with the Most Number of 6s\n",
        "\n",
        "- Filtered balls where the batsman scored 6 or more runs.\n",
        "- Counted how many sixes each batsman hit using `value_counts()`.\n",
        "\n",
        "**Output Observation**:  \n",
        "CH Gayle has hit the most number of 6s.\n"
      ],
      "metadata": {
        "id": "7FIng1ck3Qck"
      }
    },
    {
      "cell_type": "code",
      "source": [
        "# Plot\n",
        "plt.figure(figsize = (9, 3))\n",
        "sns.barplot(x = sixs.index[:10], y = sixs.values[:10])\n",
        "plt.title('Top 10 Batsman having highest 6s of All Time')\n",
        "plt.xlabel('Batsman')\n",
        "plt.ylabel('Number of 6s')\n",
        "plt.xticks(rotation = 45)\n",
        "plt.tight_layout()\n",
        "plt.show()"
      ],
      "metadata": {
        "colab": {
          "base_uri": "https://localhost:8080/",
          "height": 307
        },
        "id": "j2FOAn66WDtX",
        "outputId": "7f0429ac-2107-4558-ecae-d73bbd8f98d4"
      },
      "execution_count": null,
      "outputs": [
        {
          "output_type": "display_data",
          "data": {
            "text/plain": [
              "<Figure size 900x300 with 1 Axes>"
            ],
            "image/png": "[encoded data removed]"
          },
          "metadata": {}
        }
      ]
    },
    {
      "cell_type": "markdown",
      "source": [
        "- CH Gayle dominates with the highest number of 6s (~200), far ahead of others.\n",
        "\n",
        "- RG Sharma and SK Raina follow as distant second/third (~100–150 6s).\n",
        "\n",
        "- Middle-order batsmen (AB de Villiers, V Kohli, DA Warner, MS Dhoni) cluster around 50–100 6s.\n",
        "\n",
        "- Y Pathan and Yuvraj Singh round out the top 10 with the lowest counts (~50 or fewer)."
      ],
      "metadata": {
        "id": "Y9BEh8yI3kpj"
      }
    },
    {
      "cell_type": "code",
      "source": [
        "# Doubt ->\n",
        "balls_df['batsman_runs'].value_counts()"
      ],
      "metadata": {
        "colab": {
          "base_uri": "https://localhost:8080/",
          "height": 335
        },
        "id": "XHzbRjj-WDv_",
        "outputId": "207a3868-2555-4ea9-a0a5-9a8ac219d419"
      },
      "execution_count": null,
      "outputs": [
        {
          "output_type": "execute_result",
          "data": {
            "text/plain": [
              "batsman_runs\n",
              "0    61788\n",
              "1    56131\n",
              "4    17221\n",
              "2     9800\n",
              "6     6614\n",
              "3      515\n",
              "5       46\n",
              "Name: count, dtype: int64"
            ],
            "text/html": [
              "<div>\n",
              "<style scoped>\n",
              "    .dataframe tbody tr th:only-of-type {\n",
              "        vertical-align: middle;\n",
              "    }\n",
              "\n",
              "    .dataframe tbody tr th {\n",
              "        vertical-align: top;\n",
              "    }\n",
              "\n",
              "    .dataframe thead th {\n",
              "        text-align: right;\n",
              "    }\n",
              "</style>\n",
              "<table border=\"1\" class=\"dataframe\">\n",
              "  <thead>\n",
              "    <tr style=\"text-align: right;\">\n",
              "      <th></th>\n",
              "      <th>count</th>\n",
              "    </tr>\n",
              "    <tr>\n",
              "      <th>batsman_runs</th>\n",
              "      <th></th>\n",
              "    </tr>\n",
              "  </thead>\n",
              "  <tbody>\n",
              "    <tr>\n",
              "      <th>0</th>\n",
              "      <td>61788</td>\n",
              "    </tr>\n",
              "    <tr>\n",
              "      <th>1</th>\n",
              "      <td>56131</td>\n",
              "    </tr>\n",
              "    <tr>\n",
              "      <th>4</th>\n",
              "      <td>17221</td>\n",
              "    </tr>\n",
              "    <tr>\n",
              "      <th>2</th>\n",
              "      <td>9800</td>\n",
              "    </tr>\n",
              "    <tr>\n",
              "      <th>6</th>\n",
              "      <td>6614</td>\n",
              "    </tr>\n",
              "    <tr>\n",
              "      <th>3</th>\n",
              "      <td>515</td>\n",
              "    </tr>\n",
              "    <tr>\n",
              "      <th>5</th>\n",
              "      <td>46</td>\n",
              "    </tr>\n",
              "  </tbody>\n",
              "</table>\n",
              "</div><br><label><b>dtype:</b> int64</label>"
            ]
          },
          "metadata": {},
          "execution_count": 44
        }
      ]
    },
    {
      "cell_type": "code",
      "source": [
        "# Question 24 -> Who has the highest strike rate?"
      ],
      "metadata": {
        "id": "i4byOe1TWDyQ"
      },
      "execution_count": null,
      "outputs": []
    },
    {
      "cell_type": "code",
      "source": [
        "# Doubt ->\n",
        "balls_df['non_boundary'].value_counts()"
      ],
      "metadata": {
        "colab": {
          "base_uri": "https://localhost:8080/",
          "height": 178
        },
        "id": "G3kstTWkWD0v",
        "outputId": "112bcc69-9da0-4456-f370-508a00ef820d"
      },
      "execution_count": null,
      "outputs": [
        {
          "output_type": "execute_result",
          "data": {
            "text/plain": [
              "non_boundary\n",
              "0    152102\n",
              "1        13\n",
              "Name: count, dtype: int64"
            ],
            "text/html": [
              "<div>\n",
              "<style scoped>\n",
              "    .dataframe tbody tr th:only-of-type {\n",
              "        vertical-align: middle;\n",
              "    }\n",
              "\n",
              "    .dataframe tbody tr th {\n",
              "        vertical-align: top;\n",
              "    }\n",
              "\n",
              "    .dataframe thead th {\n",
              "        text-align: right;\n",
              "    }\n",
              "</style>\n",
              "<table border=\"1\" class=\"dataframe\">\n",
              "  <thead>\n",
              "    <tr style=\"text-align: right;\">\n",
              "      <th></th>\n",
              "      <th>count</th>\n",
              "    </tr>\n",
              "    <tr>\n",
              "      <th>non_boundary</th>\n",
              "      <th></th>\n",
              "    </tr>\n",
              "  </thead>\n",
              "  <tbody>\n",
              "    <tr>\n",
              "      <th>0</th>\n",
              "      <td>152102</td>\n",
              "    </tr>\n",
              "    <tr>\n",
              "      <th>1</th>\n",
              "      <td>13</td>\n",
              "    </tr>\n",
              "  </tbody>\n",
              "</table>\n",
              "</div><br><label><b>dtype:</b> int64</label>"
            ]
          },
          "metadata": {},
          "execution_count": 46
        }
      ]
    },
    {
      "cell_type": "code",
      "source": [
        "# Solution ->\n",
        "balls = balls_df[balls_df['extra_runs'] == 0]\n",
        "balls_faced = balls.groupby('batsman').size().sort_index()\n",
        "total_runs = balls.groupby('batsman')['batsman_runs'].sum().sort_index()\n",
        "strike_rate = (total_runs / balls_faced) * 100\n",
        "strike_rate.idxmax()"
      ],
      "metadata": {
        "colab": {
          "base_uri": "https://localhost:8080/",
          "height": 36
        },
        "id": "uLEngiVDWD3b",
        "outputId": "4e2d381e-28c4-4473-c863-14760eb73905"
      },
      "execution_count": null,
      "outputs": [
        {
          "output_type": "execute_result",
          "data": {
            "text/plain": [
              "'B Stanlake'"
            ],
            "application/vnd.google.colaboratory.intrinsic+json": {
              "type": "string"
            }
          },
          "metadata": {},
          "execution_count": 47
        }
      ]
    },
    {
      "cell_type": "markdown",
      "source": [
        "### Batsman with the Highest Strike Rate\n",
        "\n",
        "- Removed deliveries with extra runs (to exclude wides and no-balls).\n",
        "- Counted valid balls faced and total runs scored by each batsman.\n",
        "- Calculated strike rate as (runs / balls faced) × 100.\n",
        "- Identified the batsman with the highest strike rate.\n",
        "\n",
        "**Output Observation**:  \n",
        "B Stanlake has the highest strike rate.\n"
      ],
      "metadata": {
        "id": "KyGQ7S5k32yR"
      }
    },
    {
      "cell_type": "code",
      "source": [
        "# Question 25 -> Who is the leading wicket-taker?\n",
        "wickets_df = balls_df[(balls_df['is_wicket'] == 1) & (balls_df['dismissal_kind'] != 'run out')]\n",
        "wickets_df['bowler'].value_counts().idxmax()"
      ],
      "metadata": {
        "colab": {
          "base_uri": "https://localhost:8080/",
          "height": 36
        },
        "id": "aVlm43W0b59x",
        "outputId": "98056257-d317-4875-ec84-5e4c1cd42d95"
      },
      "execution_count": null,
      "outputs": [
        {
          "output_type": "execute_result",
          "data": {
            "text/plain": [
              "'SL Malinga'"
            ],
            "application/vnd.google.colaboratory.intrinsic+json": {
              "type": "string"
            }
          },
          "metadata": {},
          "execution_count": 48
        }
      ]
    },
    {
      "cell_type": "markdown",
      "source": [
        "### Leading Wicket-Taker\n",
        "\n",
        "- Filtered deliveries where a wicket fell, excluding run outs.\n",
        "- Counted how many wickets each bowler took.\n",
        "- Found the bowler with the highest wicket count.\n",
        "\n",
        "**Output Observation**:  \n",
        "SL Malinga is the leading wicket-taker.\n"
      ],
      "metadata": {
        "id": "eJCs_HGQ4F6V"
      }
    },
    {
      "cell_type": "code",
      "source": [
        "# Plot\n",
        "plt.figure(figsize = (9, 3))\n",
        "sns.barplot(x = wickets_df['bowler'].value_counts().index[:10], y = wickets_df['bowler'].value_counts().values[:10])\n",
        "plt.xlabel('Bowler')\n",
        "plt.ylabel('Number of Wickets')\n",
        "plt.title('Top 10 Bowlers by Wickets')\n",
        "plt.xticks(rotation = 45)\n",
        "plt.show()"
      ],
      "metadata": {
        "colab": {
          "base_uri": "https://localhost:8080/",
          "height": 411
        },
        "id": "bSg8q7hfdVJN",
        "outputId": "e93b3c3f-8798-42f1-acb9-ae7656f9d867"
      },
      "execution_count": null,
      "outputs": [
        {
          "output_type": "display_data",
          "data": {
            "text/plain": [
              "<Figure size 900x300 with 1 Axes>"
            ],
            "image/png": "[encoded data removed]"
          },
          "metadata": {}
        }
      ]
    },
    {
      "cell_type": "code",
      "source": [
        "# Question 26 -> Which stadium has hosted the most number of matches?\n",
        "matches_per_stadium = matches_df['venue'].value_counts()\n",
        "matches_per_stadium.head(1).index"
      ],
      "metadata": {
        "colab": {
          "base_uri": "https://localhost:8080/"
        },
        "id": "Ob0atCpZb6Ah",
        "outputId": "8aed9cba-fc10-45e6-f7be-65702248ffe4"
      },
      "execution_count": null,
      "outputs": [
        {
          "output_type": "execute_result",
          "data": {
            "text/plain": [
              "Index(['Eden Gardens'], dtype='object', name='venue')"
            ]
          },
          "metadata": {},
          "execution_count": 50
        }
      ]
    },
    {
      "cell_type": "markdown",
      "source": [
        "### Stadium with the Most Matches Hosted\n",
        "\n",
        "- Counted how many matches were played at each stadium using `value_counts()` on the `venue` column.\n",
        "\n",
        "**Output Observation**:  \n",
        "Eden Gardens has hosted the most number of matches.\n"
      ],
      "metadata": {
        "id": "IJlylAF44Twt"
      }
    },
    {
      "cell_type": "code",
      "source": [
        "# Plot for top 10 stadiums\n",
        "plt.figure(figsize = (9, 3))\n",
        "sns.barplot(x = matches_per_stadium.index[:10], y = matches_per_stadium.values[:10])\n",
        "plt.xlabel('Stadium')\n",
        "plt.ylabel('Number of Matches')\n",
        "plt.xticks(rotation = 90)\n",
        "plt.title('Top 10 Stadiums by Matches')\n",
        "plt.show()"
      ],
      "metadata": {
        "colab": {
          "base_uri": "https://localhost:8080/",
          "height": 619
        },
        "id": "gxWLgoLib6Dp",
        "outputId": "8e9abdb1-f182-4d98-8329-5d7f15878631"
      },
      "execution_count": null,
      "outputs": [
        {
          "output_type": "display_data",
          "data": {
            "text/plain": [
              "<Figure size 900x300 with 1 Axes>"
            ],
            "image/png": "[encoded data removed]"
          },
          "metadata": {}
        }
      ]
    },
    {
      "cell_type": "markdown",
      "source": [
        "From the plot\n",
        "- SL Malinga leads with the highest wickets (~150), followed by A Mishra (~125) and PP Chawla (~100).\n",
        "\n",
        "- Harbhajan Singh, DJ Bravo, and B Kumar form the middle group (~75–100 wickets).\n",
        "\n",
        "- A Nehra, R Vinay Kumar, R Ashwin, and Z Khan complete the list with 50–75 wickets each."
      ],
      "metadata": {
        "id": "gKZjS12k4hpk"
      }
    },
    {
      "cell_type": "code",
      "source": [
        "# Question 27 -> Who has won the most MOM awards?\n",
        "mom_awards = matches_df['player_of_match'].value_counts()\n",
        "mom_awards.head(1).index"
      ],
      "metadata": {
        "colab": {
          "base_uri": "https://localhost:8080/"
        },
        "id": "7j5_m2jVb6Gr",
        "outputId": "b588ba1c-27b0-4506-9694-f99b85e7c68c"
      },
      "execution_count": null,
      "outputs": [
        {
          "output_type": "execute_result",
          "data": {
            "text/plain": [
              "Index(['AB de Villiers'], dtype='object', name='player_of_match')"
            ]
          },
          "metadata": {},
          "execution_count": 52
        }
      ]
    },
    {
      "cell_type": "markdown",
      "source": [
        "### Player with the Most Man of the Match Awards\n",
        "\n",
        "- Counted how many times each player received the \"Player of the Match\" award using `value_counts()`.\n",
        "\n",
        "**Output Observation**:  \n",
        "AB de Villiers has won the most Man of the Match awards.\n"
      ],
      "metadata": {
        "id": "NLbAwk4b4qO4"
      }
    },
    {
      "cell_type": "code",
      "source": [
        "# Plot for top 10 MOM awardees\n",
        "plt.figure(figsize = (9, 3))\n",
        "sns.barplot(x = mom_awards.index[:10], y = mom_awards.values[:10])\n",
        "plt.xlabel('Player')\n",
        "plt.ylabel('Number of MOM Awards')\n",
        "plt.xticks(rotation = 45)\n",
        "plt.title('Top 10 Players by MOM Awards')\n",
        "plt.show()"
      ],
      "metadata": {
        "colab": {
          "base_uri": "https://localhost:8080/",
          "height": 394
        },
        "id": "m3fbHn2Cb6Lx",
        "outputId": "c1ed2950-2159-413b-b140-710c257b5ac1"
      },
      "execution_count": null,
      "outputs": [
        {
          "output_type": "display_data",
          "data": {
            "text/plain": [
              "<Figure size 900x300 with 1 Axes>"
            ],
            "image/png": "[encoded data removed]"
          },
          "metadata": {}
        }
      ]
    },
    {
      "cell_type": "markdown",
      "source": [
        "From the plot\n",
        "- AB de Villiers (likely \"R8 Ice Millers\") leads with the highest MOM awards (~15).\n",
        "\n",
        "-  CH Gayle and RG Sharma (likely \"R6 Sharma\") follow closely with ~10–12 awards.\n",
        "\n",
        "- Middle-order players (DA Warner, MS Dhoni, SR Watson) have ~5–10 awards.\n",
        "\n",
        "- Y Pathan, SK Raina, V Kohli, and G Gambhir complete the list with <5 awards each."
      ],
      "metadata": {
        "id": "tBDk9KgU45jO"
      }
    },
    {
      "cell_type": "code",
      "source": [
        "# Question 28 -> What is the count of fours hit in each season?\n",
        "balls_with_season = balls_df.merge(matches_df[['id', 'season']], on = 'id')\n",
        "fours = balls_with_season[balls_with_season['batsman_runs'] == 4].groupby('season')['batsman_runs'].count()\n",
        "fours"
      ],
      "metadata": {
        "colab": {
          "base_uri": "https://localhost:8080/",
          "height": 460
        },
        "id": "BPU6dJeSb6Or",
        "outputId": "50a64f02-c601-4cbc-c921-ec2be7e1f6db"
      },
      "execution_count": null,
      "outputs": [
        {
          "output_type": "execute_result",
          "data": {
            "text/plain": [
              "season\n",
              "2008    1703\n",
              "2009    1317\n",
              "2010    1708\n",
              "2011    1916\n",
              "2012    1911\n",
              "2013    2052\n",
              "2014    1562\n",
              "2015    1607\n",
              "2016    1633\n",
              "2017    1611\n",
              "2018     201\n",
              "Name: batsman_runs, dtype: int64"
            ],
            "text/html": [
              "<div>\n",
              "<style scoped>\n",
              "    .dataframe tbody tr th:only-of-type {\n",
              "        vertical-align: middle;\n",
              "    }\n",
              "\n",
              "    .dataframe tbody tr th {\n",
              "        vertical-align: top;\n",
              "    }\n",
              "\n",
              "    .dataframe thead th {\n",
              "        text-align: right;\n",
              "    }\n",
              "</style>\n",
              "<table border=\"1\" class=\"dataframe\">\n",
              "  <thead>\n",
              "    <tr style=\"text-align: right;\">\n",
              "      <th></th>\n",
              "      <th>batsman_runs</th>\n",
              "    </tr>\n",
              "    <tr>\n",
              "      <th>season</th>\n",
              "      <th></th>\n",
              "    </tr>\n",
              "  </thead>\n",
              "  <tbody>\n",
              "    <tr>\n",
              "      <th>2008</th>\n",
              "      <td>1703</td>\n",
              "    </tr>\n",
              "    <tr>\n",
              "      <th>2009</th>\n",
              "      <td>1317</td>\n",
              "    </tr>\n",
              "    <tr>\n",
              "      <th>2010</th>\n",
              "      <td>1708</td>\n",
              "    </tr>\n",
              "    <tr>\n",
              "      <th>2011</th>\n",
              "      <td>1916</td>\n",
              "    </tr>\n",
              "    <tr>\n",
              "      <th>2012</th>\n",
              "      <td>1911</td>\n",
              "    </tr>\n",
              "    <tr>\n",
              "      <th>2013</th>\n",
              "      <td>2052</td>\n",
              "    </tr>\n",
              "    <tr>\n",
              "      <th>2014</th>\n",
              "      <td>1562</td>\n",
              "    </tr>\n",
              "    <tr>\n",
              "      <th>2015</th>\n",
              "      <td>1607</td>\n",
              "    </tr>\n",
              "    <tr>\n",
              "      <th>2016</th>\n",
              "      <td>1633</td>\n",
              "    </tr>\n",
              "    <tr>\n",
              "      <th>2017</th>\n",
              "      <td>1611</td>\n",
              "    </tr>\n",
              "    <tr>\n",
              "      <th>2018</th>\n",
              "      <td>201</td>\n",
              "    </tr>\n",
              "  </tbody>\n",
              "</table>\n",
              "</div><br><label><b>dtype:</b> int64</label>"
            ]
          },
          "metadata": {},
          "execution_count": 54
        }
      ]
    },
    {
      "cell_type": "markdown",
      "source": [
        "### Count of Fours Hit in Each Season\n",
        "\n",
        "- Merged ball-by-ball data with match data to get the season for each delivery.\n",
        "- Filtered deliveries where the batsman hit a 4.\n",
        "- Counted the number of such fours for each season.\n",
        "\n",
        "**Output Observation**:  \n",
        "The number of fours hit per season is listed, with the highest being 2,052 in 2013.  \n",
        "The count for 2018 is significantly lower at 201.\n"
      ],
      "metadata": {
        "id": "t9Vk63fD5L-p"
      }
    },
    {
      "cell_type": "code",
      "source": [
        "# Plot\n",
        "plt.figure(figsize = (9, 3))\n",
        "sns.barplot(x = fours.index, y = fours.values)\n",
        "plt.xlabel('Season')\n",
        "plt.ylabel('Number of 4s')\n",
        "plt.title('Count of 4s hit in each season')\n",
        "plt.show()"
      ],
      "metadata": {
        "colab": {
          "base_uri": "https://localhost:8080/",
          "height": 333
        },
        "id": "6IUPa0x9b6T3",
        "outputId": "6a988a4b-1754-4d98-af1a-364bad42819c"
      },
      "execution_count": null,
      "outputs": [
        {
          "output_type": "display_data",
          "data": {
            "text/plain": [
              "<Figure size 900x300 with 1 Axes>"
            ],
            "image/png": "[encoded data removed]"
          },
          "metadata": {}
        }
      ]
    },
    {
      "cell_type": "markdown",
      "source": [
        "From the plot\n",
        "- Trend Over Time: The number of 4s hit fluctuates across seasons from 2008 to 2018.\n",
        "\n",
        "- Peak Season: The highest count of 4s appears around 2011–2013 (exact value not specified, but visually prominent).\n",
        "\n",
        "- Decline Post-2013: A noticeable drop occurs after 2013, with the lowest counts likely in 2017–2018."
      ],
      "metadata": {
        "id": "S0V4a5jv5rcF"
      }
    },
    {
      "cell_type": "code",
      "source": [
        "# Question 29 -> What is the count of sixss hit in each season?\n",
        "balls_with_season = balls_df.merge(matches_df[['id', 'season']], on = 'id')\n",
        "sixs = balls_with_season[balls_with_season['batsman_runs'] == 6].groupby('season')['batsman_runs'].count()\n",
        "sixs"
      ],
      "metadata": {
        "colab": {
          "base_uri": "https://localhost:8080/",
          "height": 460
        },
        "id": "HrfAolyPb6Wx",
        "outputId": "60ca0110-22a3-4420-b67a-3fee5409367f"
      },
      "execution_count": null,
      "outputs": [
        {
          "output_type": "execute_result",
          "data": {
            "text/plain": [
              "season\n",
              "2008    623\n",
              "2009    506\n",
              "2010    585\n",
              "2011    639\n",
              "2012    733\n",
              "2013    675\n",
              "2014    714\n",
              "2015    692\n",
              "2016    639\n",
              "2017    705\n",
              "2018    103\n",
              "Name: batsman_runs, dtype: int64"
            ],
            "text/html": [
              "<div>\n",
              "<style scoped>\n",
              "    .dataframe tbody tr th:only-of-type {\n",
              "        vertical-align: middle;\n",
              "    }\n",
              "\n",
              "    .dataframe tbody tr th {\n",
              "        vertical-align: top;\n",
              "    }\n",
              "\n",
              "    .dataframe thead th {\n",
              "        text-align: right;\n",
              "    }\n",
              "</style>\n",
              "<table border=\"1\" class=\"dataframe\">\n",
              "  <thead>\n",
              "    <tr style=\"text-align: right;\">\n",
              "      <th></th>\n",
              "      <th>batsman_runs</th>\n",
              "    </tr>\n",
              "    <tr>\n",
              "      <th>season</th>\n",
              "      <th></th>\n",
              "    </tr>\n",
              "  </thead>\n",
              "  <tbody>\n",
              "    <tr>\n",
              "      <th>2008</th>\n",
              "      <td>623</td>\n",
              "    </tr>\n",
              "    <tr>\n",
              "      <th>2009</th>\n",
              "      <td>506</td>\n",
              "    </tr>\n",
              "    <tr>\n",
              "      <th>2010</th>\n",
              "      <td>585</td>\n",
              "    </tr>\n",
              "    <tr>\n",
              "      <th>2011</th>\n",
              "      <td>639</td>\n",
              "    </tr>\n",
              "    <tr>\n",
              "      <th>2012</th>\n",
              "      <td>733</td>\n",
              "    </tr>\n",
              "    <tr>\n",
              "      <th>2013</th>\n",
              "      <td>675</td>\n",
              "    </tr>\n",
              "    <tr>\n",
              "      <th>2014</th>\n",
              "      <td>714</td>\n",
              "    </tr>\n",
              "    <tr>\n",
              "      <th>2015</th>\n",
              "      <td>692</td>\n",
              "    </tr>\n",
              "    <tr>\n",
              "      <th>2016</th>\n",
              "      <td>639</td>\n",
              "    </tr>\n",
              "    <tr>\n",
              "      <th>2017</th>\n",
              "      <td>705</td>\n",
              "    </tr>\n",
              "    <tr>\n",
              "      <th>2018</th>\n",
              "      <td>103</td>\n",
              "    </tr>\n",
              "  </tbody>\n",
              "</table>\n",
              "</div><br><label><b>dtype:</b> int64</label>"
            ]
          },
          "metadata": {},
          "execution_count": 56
        }
      ]
    },
    {
      "cell_type": "markdown",
      "source": [
        "### Count of Sixes Hit in Each Season\n",
        "\n",
        "- Merged ball-by-ball data with match data to attach the season to each delivery.\n",
        "- Filtered deliveries where the batsman hit a 6.\n",
        "- Counted the number of sixes for each season.\n",
        "\n",
        "**Output Observation**:  \n",
        "The number of sixes hit per season is shown, with the highest being 733 in 2012.  \n",
        "The count for 2018 is 103.\n"
      ],
      "metadata": {
        "id": "sGW9dvTp5iR1"
      }
    },
    {
      "cell_type": "code",
      "source": [
        "# Plot\n",
        "plt.figure(figsize = (9, 3))\n",
        "sns.barplot(x = sixs.index, y = sixs.values)\n",
        "plt.xlabel('Season')\n",
        "plt.ylabel('Number of 6s')\n",
        "plt.title('Count of 6s hit in each season')\n",
        "plt.show()"
      ],
      "metadata": {
        "colab": {
          "base_uri": "https://localhost:8080/",
          "height": 333
        },
        "id": "OzxRR7FPpK4q",
        "outputId": "eff8c14a-78a4-47e7-d306-dad019db7921"
      },
      "execution_count": null,
      "outputs": [
        {
          "output_type": "display_data",
          "data": {
            "text/plain": [
              "<Figure size 900x300 with 1 Axes>"
            ],
            "image/png": "[encoded data removed]"
          },
          "metadata": {}
        }
      ]
    },
    {
      "cell_type": "markdown",
      "source": [
        "From the plot\n",
        "- Upward Trend (2008–2013): The number of 6s increased steadily, peaking around 2012–2013 (~600–700 sixes).\n",
        "\n",
        "- Sharp Decline (2014–2018): Post-2013, the count dropped significantly, reaching its lowest point (~100–200 sixes) by 2017–2018."
      ],
      "metadata": {
        "id": "LfJb9kbL58TK"
      }
    },
    {
      "cell_type": "code",
      "source": [
        "# Question 30 -> What is the count of runs scored from boundaries in each season?\n",
        "boundaries = balls_with_season[(balls_with_season['batsman_runs'] == 4) | (balls_with_season['batsman_runs'] == 6)]\n",
        "runs_from_boundaries = boundaries.groupby('season')['batsman_runs'].sum()\n",
        "runs_from_boundaries"
      ],
      "metadata": {
        "colab": {
          "base_uri": "https://localhost:8080/",
          "height": 460
        },
        "id": "g8lKWl7tpK9s",
        "outputId": "8d542566-08ab-4069-8296-b533905655f7"
      },
      "execution_count": null,
      "outputs": [
        {
          "output_type": "execute_result",
          "data": {
            "text/plain": [
              "season\n",
              "2008    10550\n",
              "2009     8304\n",
              "2010    10342\n",
              "2011    11498\n",
              "2012    12042\n",
              "2013    12258\n",
              "2014    10532\n",
              "2015    10580\n",
              "2016    10366\n",
              "2017    10674\n",
              "2018     1422\n",
              "Name: batsman_runs, dtype: int64"
            ],
            "text/html": [
              "<div>\n",
              "<style scoped>\n",
              "    .dataframe tbody tr th:only-of-type {\n",
              "        vertical-align: middle;\n",
              "    }\n",
              "\n",
              "    .dataframe tbody tr th {\n",
              "        vertical-align: top;\n",
              "    }\n",
              "\n",
              "    .dataframe thead th {\n",
              "        text-align: right;\n",
              "    }\n",
              "</style>\n",
              "<table border=\"1\" class=\"dataframe\">\n",
              "  <thead>\n",
              "    <tr style=\"text-align: right;\">\n",
              "      <th></th>\n",
              "      <th>batsman_runs</th>\n",
              "    </tr>\n",
              "    <tr>\n",
              "      <th>season</th>\n",
              "      <th></th>\n",
              "    </tr>\n",
              "  </thead>\n",
              "  <tbody>\n",
              "    <tr>\n",
              "      <th>2008</th>\n",
              "      <td>10550</td>\n",
              "    </tr>\n",
              "    <tr>\n",
              "      <th>2009</th>\n",
              "      <td>8304</td>\n",
              "    </tr>\n",
              "    <tr>\n",
              "      <th>2010</th>\n",
              "      <td>10342</td>\n",
              "    </tr>\n",
              "    <tr>\n",
              "      <th>2011</th>\n",
              "      <td>11498</td>\n",
              "    </tr>\n",
              "    <tr>\n",
              "      <th>2012</th>\n",
              "      <td>12042</td>\n",
              "    </tr>\n",
              "    <tr>\n",
              "      <th>2013</th>\n",
              "      <td>12258</td>\n",
              "    </tr>\n",
              "    <tr>\n",
              "      <th>2014</th>\n",
              "      <td>10532</td>\n",
              "    </tr>\n",
              "    <tr>\n",
              "      <th>2015</th>\n",
              "      <td>10580</td>\n",
              "    </tr>\n",
              "    <tr>\n",
              "      <th>2016</th>\n",
              "      <td>10366</td>\n",
              "    </tr>\n",
              "    <tr>\n",
              "      <th>2017</th>\n",
              "      <td>10674</td>\n",
              "    </tr>\n",
              "    <tr>\n",
              "      <th>2018</th>\n",
              "      <td>1422</td>\n",
              "    </tr>\n",
              "  </tbody>\n",
              "</table>\n",
              "</div><br><label><b>dtype:</b> int64</label>"
            ]
          },
          "metadata": {},
          "execution_count": 58
        }
      ]
    },
    {
      "cell_type": "markdown",
      "source": [
        "### Runs Scored from Boundaries in Each Season\n",
        "\n",
        "- Filtered deliveries where batsmen scored 4 or 6 runs (boundaries).\n",
        "- Grouped by season and summed the runs from these boundary shots.\n",
        "\n",
        "**Output Observation**:  \n",
        "Runs from boundaries peaked at 12,258 in 2013.  \n",
        "In 2018, the total boundary runs recorded were 1,422.\n"
      ],
      "metadata": {
        "id": "C2w2oMKx6Cur"
      }
    },
    {
      "cell_type": "code",
      "source": [
        "# Plot\n",
        "plt.figure(figsize = (9, 3))\n",
        "sns.barplot(x = runs_from_boundaries.index, y = runs_from_boundaries.values)\n",
        "plt.xlabel('Season')\n",
        "plt.ylabel('Runs scored from boundaries')\n",
        "plt.title('Runs scored from boundaries in each season')\n",
        "plt.show()"
      ],
      "metadata": {
        "colab": {
          "base_uri": "https://localhost:8080/",
          "height": 333
        },
        "id": "7fc-Fpe3pLBX",
        "outputId": "11d3fa11-f9b0-4eeb-a000-fa88435ca8c9"
      },
      "execution_count": null,
      "outputs": [
        {
          "output_type": "display_data",
          "data": {
            "text/plain": [
              "<Figure size 900x300 with 1 Axes>"
            ],
            "image/png": "[encoded data removed]"
          },
          "metadata": {}
        }
      ]
    },
    {
      "cell_type": "markdown",
      "source": [
        "From the plot\n",
        "- Trend Over Time: The runs scored from boundaries (4s and 6s) vary across seasons from 2008 to 2018.\n",
        "\n",
        "- Peak Boundary Runs: The highest contribution from boundaries likely occurred around 2011–2013 (visually prominent bars).\n",
        "\n",
        "- Decline Post-2013: A noticeable drop in boundary runs is observed after 2013, with the lowest values likely in 2017–2018."
      ],
      "metadata": {
        "id": "7nmriMCW6YBO"
      }
    },
    {
      "cell_type": "code",
      "source": [
        "# Question 31 -> What is the run contribution from boundaries in each season?\n",
        "total_runs = balls_with_season.groupby('season')['batsman_runs'].sum()\n",
        "run_contribution = (runs_from_boundaries / total_runs) * 100\n",
        "run_contribution"
      ],
      "metadata": {
        "colab": {
          "base_uri": "https://localhost:8080/",
          "height": 460
        },
        "id": "nKYEQYHzpLFg",
        "outputId": "690b17e9-cd46-49cf-c0ba-21b929496cdd"
      },
      "execution_count": null,
      "outputs": [
        {
          "output_type": "execute_result",
          "data": {
            "text/plain": [
              "season\n",
              "2008    62.763995\n",
              "2009    54.118874\n",
              "2010    58.314068\n",
              "2011    57.697712\n",
              "2012    56.474230\n",
              "2013    57.208195\n",
              "2014    58.765763\n",
              "2015    60.773163\n",
              "2016    57.710723\n",
              "2017    59.607975\n",
              "2018    61.611785\n",
              "Name: batsman_runs, dtype: float64"
            ],
            "text/html": [
              "<div>\n",
              "<style scoped>\n",
              "    .dataframe tbody tr th:only-of-type {\n",
              "        vertical-align: middle;\n",
              "    }\n",
              "\n",
              "    .dataframe tbody tr th {\n",
              "        vertical-align: top;\n",
              "    }\n",
              "\n",
              "    .dataframe thead th {\n",
              "        text-align: right;\n",
              "    }\n",
              "</style>\n",
              "<table border=\"1\" class=\"dataframe\">\n",
              "  <thead>\n",
              "    <tr style=\"text-align: right;\">\n",
              "      <th></th>\n",
              "      <th>batsman_runs</th>\n",
              "    </tr>\n",
              "    <tr>\n",
              "      <th>season</th>\n",
              "      <th></th>\n",
              "    </tr>\n",
              "  </thead>\n",
              "  <tbody>\n",
              "    <tr>\n",
              "      <th>2008</th>\n",
              "      <td>62.763995</td>\n",
              "    </tr>\n",
              "    <tr>\n",
              "      <th>2009</th>\n",
              "      <td>54.118874</td>\n",
              "    </tr>\n",
              "    <tr>\n",
              "      <th>2010</th>\n",
              "      <td>58.314068</td>\n",
              "    </tr>\n",
              "    <tr>\n",
              "      <th>2011</th>\n",
              "      <td>57.697712</td>\n",
              "    </tr>\n",
              "    <tr>\n",
              "      <th>2012</th>\n",
              "      <td>56.474230</td>\n",
              "    </tr>\n",
              "    <tr>\n",
              "      <th>2013</th>\n",
              "      <td>57.208195</td>\n",
              "    </tr>\n",
              "    <tr>\n",
              "      <th>2014</th>\n",
              "      <td>58.765763</td>\n",
              "    </tr>\n",
              "    <tr>\n",
              "      <th>2015</th>\n",
              "      <td>60.773163</td>\n",
              "    </tr>\n",
              "    <tr>\n",
              "      <th>2016</th>\n",
              "      <td>57.710723</td>\n",
              "    </tr>\n",
              "    <tr>\n",
              "      <th>2017</th>\n",
              "      <td>59.607975</td>\n",
              "    </tr>\n",
              "    <tr>\n",
              "      <th>2018</th>\n",
              "      <td>61.611785</td>\n",
              "    </tr>\n",
              "  </tbody>\n",
              "</table>\n",
              "</div><br><label><b>dtype:</b> float64</label>"
            ]
          },
          "metadata": {},
          "execution_count": 60
        }
      ]
    },
    {
      "cell_type": "markdown",
      "source": [
        "From the plot\n",
        "\n",
        "- Trend Over Time: The runs scored from boundaries (4s and 6s) vary across seasons from 2008 to 2018.\n",
        "\n",
        "- Peak Boundary Runs: The highest contribution from boundaries likely occurred around 2011–2013 (visually prominent bars).\n",
        "\n",
        "- Decline Post-2013: A noticeable drop in boundary runs is observed after 2013, with the lowest values likely in 2017–2018."
      ],
      "metadata": {
        "id": "JPLsSek16OY6"
      }
    },
    {
      "cell_type": "code",
      "source": [
        "# Question 32 -> Which team has scored the most runs in the first 6 overs?\n",
        "powerplay_runs = balls_df[balls_df['over'] <= 6].groupby('batting_team')['total_runs'].sum()\n",
        "powerplay_runs.idxmax()"
      ],
      "metadata": {
        "colab": {
          "base_uri": "https://localhost:8080/",
          "height": 36
        },
        "id": "ml4C98V1pLJS",
        "outputId": "fc06b61e-6811-4a50-e0b5-83a4bfbca35d"
      },
      "execution_count": null,
      "outputs": [
        {
          "output_type": "execute_result",
          "data": {
            "text/plain": [
              "'Mumbai Indians'"
            ],
            "application/vnd.google.colaboratory.intrinsic+json": {
              "type": "string"
            }
          },
          "metadata": {},
          "execution_count": 61
        }
      ]
    },
    {
      "cell_type": "markdown",
      "source": [
        "### Team with the Most Runs in the First 6 Overs (Powerplay)\n",
        "\n",
        "- Filtered deliveries from the first 6 overs.\n",
        "- Summed total runs scored by each team in this period.\n",
        "- Found the team with the highest total runs.\n",
        "\n",
        "**Output Observation**:  \n",
        "Mumbai Indians scored the most runs in the first 6 overs.\n"
      ],
      "metadata": {
        "id": "w_LWf0Sn6zBx"
      }
    },
    {
      "cell_type": "code",
      "source": [
        "# Question 33 -> Which team has scored the most runs in the last 4 overs?\n",
        "last_4_overs_runs = balls_df[balls_df['over'] >= 16].groupby('batting_team')['total_runs'].sum()\n",
        "last_4_overs_runs.idxmax()"
      ],
      "metadata": {
        "colab": {
          "base_uri": "https://localhost:8080/",
          "height": 36
        },
        "id": "-c9jj9IMpLNE",
        "outputId": "96756f25-c782-458e-8c32-0f490fb16b4c"
      },
      "execution_count": null,
      "outputs": [
        {
          "output_type": "execute_result",
          "data": {
            "text/plain": [
              "'Mumbai Indians'"
            ],
            "application/vnd.google.colaboratory.intrinsic+json": {
              "type": "string"
            }
          },
          "metadata": {},
          "execution_count": 62
        }
      ]
    },
    {
      "cell_type": "markdown",
      "source": [
        "### Team with the Most Runs in the Last 4 Overs\n",
        "\n",
        "- Filtered deliveries from over 16 and above (last 4 overs).\n",
        "- Summed total runs scored by each team in this period.\n",
        "- Identified the team with the highest total runs.\n",
        "\n",
        "**Output Observation**:  \n",
        "Mumbai Indians scored the most runs in the last 4 overs.\n"
      ],
      "metadata": {
        "id": "HeNs2jxX62l3"
      }
    },
    {
      "cell_type": "code",
      "source": [
        "# Question 34 -> Which team has the best scoring run-rate in the first 6 overs?\n",
        "powerplay_run_rate = balls_df[balls_df['over'] <= 6].groupby('batting_team')['total_runs'].sum() / 6\n",
        "powerplay_run_rate.idxmax()"
      ],
      "metadata": {
        "colab": {
          "base_uri": "https://localhost:8080/",
          "height": 36
        },
        "id": "GWmgmAVPv9gA",
        "outputId": "8b972edc-792e-4a4d-f940-d25ca788b5ab"
      },
      "execution_count": null,
      "outputs": [
        {
          "output_type": "execute_result",
          "data": {
            "text/plain": [
              "'Mumbai Indians'"
            ],
            "application/vnd.google.colaboratory.intrinsic+json": {
              "type": "string"
            }
          },
          "metadata": {},
          "execution_count": 63
        }
      ]
    },
    {
      "cell_type": "markdown",
      "source": [
        "### Team with the Best Scoring Run-Rate in the First 6 Overs\n",
        "\n",
        "- Filtered deliveries from the first 6 overs.\n",
        "- Calculated total runs scored by each team in this period.\n",
        "- Divided by 6 to get the average runs per over (run-rate).\n",
        "- Found the team with the highest run-rate.\n",
        "\n",
        "**Output Observation**:  \n",
        "Mumbai Indians have the best scoring run-rate in the first 6 overs.\n"
      ],
      "metadata": {
        "id": "S0D2aNtv7DIK"
      }
    },
    {
      "cell_type": "code",
      "source": [
        "# Question 35 -> Which team has the best scoring run-rate in thelast 4 overs?\n",
        "last_4_overs_run_rate = balls_df[balls_df['over'] >= 16].groupby('batting_team')['total_runs'].sum() / 6\n",
        "last_4_overs_run_rate.idxmax()"
      ],
      "metadata": {
        "colab": {
          "base_uri": "https://localhost:8080/",
          "height": 36
        },
        "id": "PtHtVud_v9j4",
        "outputId": "314d6f32-ce4f-4c9f-be5b-947f2b229885"
      },
      "execution_count": null,
      "outputs": [
        {
          "output_type": "execute_result",
          "data": {
            "text/plain": [
              "'Mumbai Indians'"
            ],
            "application/vnd.google.colaboratory.intrinsic+json": {
              "type": "string"
            }
          },
          "metadata": {},
          "execution_count": 64
        }
      ]
    },
    {
      "cell_type": "markdown",
      "source": [
        "### Team with the Best Scoring Run-Rate in the Last 4 Overs\n",
        "\n",
        "- Filtered deliveries from over 16 and above (last 4 overs).\n",
        "- Calculated total runs scored by each team in this period.\n",
        "- Divided by 6 to get the average runs per over (run-rate).\n",
        "- Identified the team with the highest run-rate.\n",
        "\n",
        "**Output Observation**:  \n",
        "Mumbai Indians have the best scoring run-rate in the last 4 overs.\n"
      ],
      "metadata": {
        "id": "FOssZVgn7GwO"
      }
    },
    {
      "cell_type": "markdown",
      "source": [
        "### ⚡ Question 1  \n",
        "Count of matches played in each season?  \n",
        "**Output:** Matches ranged from 57 to 76 per season; highest in 2013 (76).\n",
        "\n",
        "### ⚡ Question 2  \n",
        "How many runs were scored in each season?  \n",
        "**Output:** Runs ranged ~16,000 to 22,500; lowest in 2018.\n",
        "\n",
        "### ⚡ Question 3  \n",
        "What were the runs scored per match in different seasons?  \n",
        "**Output:** Runs per match mostly between 286 and 318; low in 2018.\n",
        "\n",
        "### ⚡ Question 4  \n",
        "Who has umpired the most?  \n",
        "**Output:** S Ravi umpired the most matches (121).\n",
        "\n",
        "### ⚡ Question 5  \n",
        "Which team has won the most tosses?  \n",
        "**Output:** Mumbai Indians won the most tosses (106).\n",
        "\n",
        "### ⚡ Question 6  \n",
        "What does the team decide after winning the toss?  \n",
        "**Output:** Field chosen 496 times, bat chosen 320 times.\n",
        "\n",
        "### ⚡ Question 7  \n",
        "How does the toss decision vary across seasons?  \n",
        "**Output:** Toss decisions vary; both bat and field choices observed per season.\n",
        "\n",
        "### ⚡ Question 8  \n",
        "Does winning the toss imply winning the game?  \n",
        "**Output:** About 51.2% of toss winners also won the match.\n",
        "\n",
        "### ⚡ Question 9  \n",
        "How many times has the chasing team won the match?  \n",
        "**Output:** Chasing teams won 447 matches.\n",
        "\n",
        "### ⚡ Question 10  \n",
        "Which teams have won the tournament?  \n",
        "**Output:** 6 teams, including Mumbai Indians and Chennai Super Kings.\n",
        "\n",
        "### ⚡ Question 11  \n",
        "Which team has played the most number of matches?  \n",
        "**Output:** Mumbai Indians played the most matches.\n",
        "\n",
        "### ⚡ Question 12  \n",
        "Which team has won the most number of times?  \n",
        "**Output:** Mumbai Indians have the most wins.\n",
        "\n",
        "### ⚡ Question 13  \n",
        "Which team has the highest winning percentage?  \n",
        "**Output:** Rising Pune Supergiants have the highest winning percentage.\n",
        "\n",
        "### ⚡ Question 14  \n",
        "Is there any lucky venue for a particular team?  \n",
        "**Output:** Kolkata Knight Riders - Eden Gardens; Mumbai Indians - Wankhede Stadium, etc.\n",
        "\n",
        "### ⚡ Question 15  \n",
        "Innings wise comparison between teams?  \n",
        "**Output:** Runs scored by teams in innings 1 and 2 displayed side-by-side.\n",
        "\n",
        "### ⚡ Question 16  \n",
        "Which team has scored the most number of 200+ scores?  \n",
        "**Output:** Chennai Super Kings scored 200+ most often.\n",
        "\n",
        "### ⚡ Question 17  \n",
        "Which team has conceded 200+ scores the most?  \n",
        "**Output:** Kings XI Punjab conceded 200+ most.\n",
        "\n",
        "### ⚡ Question 18  \n",
        "What was the highest run scored by a team in a single match?  \n",
        "**Output:** Royal Challengers Bangalore scored the highest.\n",
        "\n",
        "### ⚡ Question 19  \n",
        "Which is the biggest win in terms of run margin?  \n",
        "**Output:** Mumbai Indians had the biggest win by runs.\n",
        "\n",
        "### ⚡ Question 20  \n",
        "Which batsman has played the most number of balls (excluding wides)?  \n",
        "**Output:** V Kohli played the most balls.\n",
        "\n",
        "### ⚡ Question 21  \n",
        "Who are the leading run-scorers of all time?  \n",
        "**Output:** SK Raina leads with 4,558 runs.\n",
        "\n",
        "### ⚡ Question 22  \n",
        "Who has hit the most number of 4s?  \n",
        "**Output:** G Gambhir hit the most 4s.\n",
        "\n",
        "### ⚡ Question 23  \n",
        "Who has hit the most number of 6s?  \n",
        "**Output:** CH Gayle hit the most 6s.\n",
        "\n",
        "### ⚡ Question 24  \n",
        "Who has the highest strike rate?  \n",
        "**Output:** B Stanlake has the highest strike rate.\n",
        "\n",
        "### ⚡ Question 25  \n",
        "Who is the leading wicket-taker?  \n",
        "**Output:** SL Malinga is the leading wicket-taker.\n",
        "\n",
        "### ⚡ Question 26  \n",
        "Which stadium has hosted the most number of matches?  \n",
        "**Output:** Eden Gardens hosted the most matches.\n",
        "\n",
        "### ⚡ Question 27  \n",
        "Who has won the most Man of the Match awards?  \n",
        "**Output:** AB de Villiers won the most awards.\n",
        "\n",
        "### ⚡ Question 28  \n",
        "What is the count of fours hit in each season?  \n",
        "**Output:** Highest fours were 2,052 in 2013.\n",
        "\n",
        "### ⚡ Question 29  \n",
        "What is the count of sixes hit in each season?  \n",
        "**Output:** Highest sixes were 733 in 2012.\n",
        "\n",
        "### ⚡ Question 30  \n",
        "What is the count of runs scored from boundaries in each season?  \n",
        "**Output:** Highest boundary runs were 12,258 in 2013.\n",
        "\n",
        "### ⚡ Question 31  \n",
        "What is the run contribution from boundaries in each season?  \n",
        "**Output:** Boundaries contributed 54% to 62% of runs per season.\n",
        "\n",
        "### ⚡ Question 32  \n",
        "Which team has scored the most runs in the first 6 overs?  \n",
        "**Output:** Mumbai Indians scored the most runs.\n",
        "\n",
        "### ⚡ Question 33  \n",
        "Which team has scored the most runs in the last 4 overs?  \n",
        "**Output:** Mumbai Indians scored the most runs.\n",
        "\n",
        "### ⚡ Question 34  \n",
        "Which team has the best scoring run-rate in the first 6 overs?  \n",
        "**Output:** Mumbai Indians have the best run-rate.\n",
        "\n",
        "### ⚡ Question 35  \n",
        "Which team has the best scoring run-rate in the last 4 overs?  \n",
        "**Output:** Mumbai Indians have the best run-rate.\n"
      ],
      "metadata": {
        "id": "JTD6lXE-8p7F"
      }
    }
  ]
}